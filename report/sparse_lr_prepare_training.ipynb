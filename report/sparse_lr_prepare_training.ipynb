{
 "cells": [
  {
   "cell_type": "code",
   "execution_count": 1,
   "metadata": {},
   "outputs": [],
   "source": [
    "import math\n",
    "import numpy as np\n",
    "import pandas as pd\n",
    "import sklearn\n",
    "import scipy\n",
    "import networkx as nx\n",
    "from sklearn.feature_extraction import DictVectorizer\n",
    "from sklearn.metrics.pairwise import cosine_similarity\n",
    "from scipy.sparse import coo_matrix, vstack"
   ]
  },
  {
   "cell_type": "code",
   "execution_count": 2,
   "metadata": {},
   "outputs": [],
   "source": [
    "pd.set_option('display.max_rows', 300)\n",
    "pd.set_option('display.max_columns', 100)"
   ]
  },
  {
   "cell_type": "code",
   "execution_count": 3,
   "metadata": {},
   "outputs": [],
   "source": [
    "device_type = {'user_id':str, 'device_id_0':str, 'device_id_1':str, 'device_id_2':str, 'ip':str, 'reach_time':str, 'reach_time_day':str}\n",
    "cookie_type = {'user_id':str, 'cookieid':str, 'ip':str, 'data_time':str}\n"
   ]
  },
  {
   "cell_type": "code",
   "execution_count": 4,
   "metadata": {
    "scrolled": false
   },
   "outputs": [
    {
     "name": "stdout",
     "output_type": "stream",
     "text": [
      "CPU times: user 1min 7s, sys: 8.95 s, total: 1min 16s\n",
      "Wall time: 1min 37s\n"
     ]
    }
   ],
   "source": [
    "%%time\n",
    "device_df = pd.read_csv('../alidata/data/ijcai_device_encode_training.csv', dtype=device_type)"
   ]
  },
  {
   "cell_type": "code",
   "execution_count": 5,
   "metadata": {},
   "outputs": [
    {
     "name": "stdout",
     "output_type": "stream",
     "text": [
      "CPU times: user 1min 37s, sys: 11 s, total: 1min 48s\n",
      "Wall time: 2min 22s\n"
     ]
    }
   ],
   "source": [
    "%%time\n",
    "cookie_df = pd.read_csv('../alidata/data/ijcai_cookie_encode_training.csv', dtype=cookie_type)"
   ]
  },
  {
   "cell_type": "code",
   "execution_count": 6,
   "metadata": {},
   "outputs": [
    {
     "data": {
      "text/plain": [
       "29158167"
      ]
     },
     "execution_count": 6,
     "metadata": {},
     "output_type": "execute_result"
    }
   ],
   "source": [
    "len(device_df)"
   ]
  },
  {
   "cell_type": "code",
   "execution_count": 7,
   "metadata": {
    "scrolled": false
   },
   "outputs": [
    {
     "data": {
      "text/html": [
       "<div>\n",
       "<style scoped>\n",
       "    .dataframe tbody tr th:only-of-type {\n",
       "        vertical-align: middle;\n",
       "    }\n",
       "\n",
       "    .dataframe tbody tr th {\n",
       "        vertical-align: top;\n",
       "    }\n",
       "\n",
       "    .dataframe thead th {\n",
       "        text-align: right;\n",
       "    }\n",
       "</style>\n",
       "<table border=\"1\" class=\"dataframe\">\n",
       "  <thead>\n",
       "    <tr style=\"text-align: right;\">\n",
       "      <th></th>\n",
       "      <th>user_id</th>\n",
       "      <th>device_id_0</th>\n",
       "      <th>device_id_1</th>\n",
       "      <th>device_id_2</th>\n",
       "      <th>ip</th>\n",
       "      <th>search_keyword</th>\n",
       "      <th>auction_id</th>\n",
       "      <th>shop_id</th>\n",
       "      <th>geohash6</th>\n",
       "      <th>geohash7</th>\n",
       "      <th>geohash8</th>\n",
       "      <th>reach_time</th>\n",
       "      <th>os</th>\n",
       "    </tr>\n",
       "  </thead>\n",
       "  <tbody>\n",
       "    <tr>\n",
       "      <th>0</th>\n",
       "      <td>000157f178ac0da34f8922aba3be58b1</td>\n",
       "      <td>e658d7862413ed37d305eba287a973ad</td>\n",
       "      <td>9200911503e4c0ca7559d8a8e6c0455b</td>\n",
       "      <td>NaN</td>\n",
       "      <td>3593efe532ee076e931de631dca691ec.0ec04218402b4...</td>\n",
       "      <td>37cdee4aa95e4169c273ecf7e57027cc 0e52d4f14bb62...</td>\n",
       "      <td>NaN</td>\n",
       "      <td>NaN</td>\n",
       "      <td>NaN</td>\n",
       "      <td>NaN</td>\n",
       "      <td>NaN</td>\n",
       "      <td>20170507080341</td>\n",
       "      <td>Android</td>\n",
       "    </tr>\n",
       "    <tr>\n",
       "      <th>1</th>\n",
       "      <td>000157f178ac0da34f8922aba3be58b1</td>\n",
       "      <td>e658d7862413ed37d305eba287a973ad</td>\n",
       "      <td>9200911503e4c0ca7559d8a8e6c0455b</td>\n",
       "      <td>NaN</td>\n",
       "      <td>3593efe532ee076e931de631dca691ec.0ec04218402b4...</td>\n",
       "      <td>37cdee4aa95e4169c273ecf7e57027cc 0e52d4f14bb62...</td>\n",
       "      <td>c7abe6d4d2337642b883638767cd13df</td>\n",
       "      <td>ca1eaf152ac91a78577ce7b278a88cff</td>\n",
       "      <td>NaN</td>\n",
       "      <td>NaN</td>\n",
       "      <td>NaN</td>\n",
       "      <td>20170507081459</td>\n",
       "      <td>Android</td>\n",
       "    </tr>\n",
       "    <tr>\n",
       "      <th>2</th>\n",
       "      <td>000157f178ac0da34f8922aba3be58b1</td>\n",
       "      <td>e658d7862413ed37d305eba287a973ad</td>\n",
       "      <td>9200911503e4c0ca7559d8a8e6c0455b</td>\n",
       "      <td>NaN</td>\n",
       "      <td>3593efe532ee076e931de631dca691ec.0ec04218402b4...</td>\n",
       "      <td>37cdee4aa95e4169c273ecf7e57027cc 0e52d4f14bb62...</td>\n",
       "      <td>NaN</td>\n",
       "      <td>NaN</td>\n",
       "      <td>NaN</td>\n",
       "      <td>NaN</td>\n",
       "      <td>NaN</td>\n",
       "      <td>20170507092521</td>\n",
       "      <td>Android</td>\n",
       "    </tr>\n",
       "    <tr>\n",
       "      <th>3</th>\n",
       "      <td>000157f178ac0da34f8922aba3be58b1</td>\n",
       "      <td>e658d7862413ed37d305eba287a973ad</td>\n",
       "      <td>9200911503e4c0ca7559d8a8e6c0455b</td>\n",
       "      <td>NaN</td>\n",
       "      <td>3593efe532ee076e931de631dca691ec.0ec04218402b4...</td>\n",
       "      <td>37cdee4aa95e4169c273ecf7e57027cc 0e52d4f14bb62...</td>\n",
       "      <td>NaN</td>\n",
       "      <td>NaN</td>\n",
       "      <td>NaN</td>\n",
       "      <td>NaN</td>\n",
       "      <td>NaN</td>\n",
       "      <td>20170507092521</td>\n",
       "      <td>Android</td>\n",
       "    </tr>\n",
       "    <tr>\n",
       "      <th>4</th>\n",
       "      <td>000157f178ac0da34f8922aba3be58b1</td>\n",
       "      <td>e658d7862413ed37d305eba287a973ad</td>\n",
       "      <td>9200911503e4c0ca7559d8a8e6c0455b</td>\n",
       "      <td>NaN</td>\n",
       "      <td>3593efe532ee076e931de631dca691ec.0ec04218402b4...</td>\n",
       "      <td>5458553fa1150bd9295e7a64163eea6e</td>\n",
       "      <td>NaN</td>\n",
       "      <td>NaN</td>\n",
       "      <td>NaN</td>\n",
       "      <td>NaN</td>\n",
       "      <td>NaN</td>\n",
       "      <td>20170501165227</td>\n",
       "      <td>Android</td>\n",
       "    </tr>\n",
       "  </tbody>\n",
       "</table>\n",
       "</div>"
      ],
      "text/plain": [
       "                            user_id                       device_id_0  \\\n",
       "0  000157f178ac0da34f8922aba3be58b1  e658d7862413ed37d305eba287a973ad   \n",
       "1  000157f178ac0da34f8922aba3be58b1  e658d7862413ed37d305eba287a973ad   \n",
       "2  000157f178ac0da34f8922aba3be58b1  e658d7862413ed37d305eba287a973ad   \n",
       "3  000157f178ac0da34f8922aba3be58b1  e658d7862413ed37d305eba287a973ad   \n",
       "4  000157f178ac0da34f8922aba3be58b1  e658d7862413ed37d305eba287a973ad   \n",
       "\n",
       "                        device_id_1 device_id_2  \\\n",
       "0  9200911503e4c0ca7559d8a8e6c0455b         NaN   \n",
       "1  9200911503e4c0ca7559d8a8e6c0455b         NaN   \n",
       "2  9200911503e4c0ca7559d8a8e6c0455b         NaN   \n",
       "3  9200911503e4c0ca7559d8a8e6c0455b         NaN   \n",
       "4  9200911503e4c0ca7559d8a8e6c0455b         NaN   \n",
       "\n",
       "                                                  ip  \\\n",
       "0  3593efe532ee076e931de631dca691ec.0ec04218402b4...   \n",
       "1  3593efe532ee076e931de631dca691ec.0ec04218402b4...   \n",
       "2  3593efe532ee076e931de631dca691ec.0ec04218402b4...   \n",
       "3  3593efe532ee076e931de631dca691ec.0ec04218402b4...   \n",
       "4  3593efe532ee076e931de631dca691ec.0ec04218402b4...   \n",
       "\n",
       "                                      search_keyword  \\\n",
       "0  37cdee4aa95e4169c273ecf7e57027cc 0e52d4f14bb62...   \n",
       "1  37cdee4aa95e4169c273ecf7e57027cc 0e52d4f14bb62...   \n",
       "2  37cdee4aa95e4169c273ecf7e57027cc 0e52d4f14bb62...   \n",
       "3  37cdee4aa95e4169c273ecf7e57027cc 0e52d4f14bb62...   \n",
       "4                   5458553fa1150bd9295e7a64163eea6e   \n",
       "\n",
       "                         auction_id                           shop_id  \\\n",
       "0                               NaN                               NaN   \n",
       "1  c7abe6d4d2337642b883638767cd13df  ca1eaf152ac91a78577ce7b278a88cff   \n",
       "2                               NaN                               NaN   \n",
       "3                               NaN                               NaN   \n",
       "4                               NaN                               NaN   \n",
       "\n",
       "   geohash6  geohash7  geohash8      reach_time       os  \n",
       "0       NaN       NaN       NaN  20170507080341  Android  \n",
       "1       NaN       NaN       NaN  20170507081459  Android  \n",
       "2       NaN       NaN       NaN  20170507092521  Android  \n",
       "3       NaN       NaN       NaN  20170507092521  Android  \n",
       "4       NaN       NaN       NaN  20170501165227  Android  "
      ]
     },
     "execution_count": 7,
     "metadata": {},
     "output_type": "execute_result"
    }
   ],
   "source": [
    "device_df.head()"
   ]
  },
  {
   "cell_type": "code",
   "execution_count": 8,
   "metadata": {},
   "outputs": [
    {
     "data": {
      "text/plain": [
       "15066709"
      ]
     },
     "execution_count": 8,
     "metadata": {},
     "output_type": "execute_result"
    }
   ],
   "source": [
    "len(cookie_df)"
   ]
  },
  {
   "cell_type": "code",
   "execution_count": 9,
   "metadata": {
    "scrolled": true
   },
   "outputs": [
    {
     "data": {
      "text/html": [
       "<div>\n",
       "<style scoped>\n",
       "    .dataframe tbody tr th:only-of-type {\n",
       "        vertical-align: middle;\n",
       "    }\n",
       "\n",
       "    .dataframe tbody tr th {\n",
       "        vertical-align: top;\n",
       "    }\n",
       "\n",
       "    .dataframe thead th {\n",
       "        text-align: right;\n",
       "    }\n",
       "</style>\n",
       "<table border=\"1\" class=\"dataframe\">\n",
       "  <thead>\n",
       "    <tr style=\"text-align: right;\">\n",
       "      <th></th>\n",
       "      <th>user_id</th>\n",
       "      <th>data_time</th>\n",
       "      <th>cookieid</th>\n",
       "      <th>url</th>\n",
       "      <th>url_domain1</th>\n",
       "      <th>url_domain2</th>\n",
       "      <th>search_keyword</th>\n",
       "      <th>auction_id</th>\n",
       "      <th>shop_id</th>\n",
       "      <th>ip</th>\n",
       "      <th>title</th>\n",
       "    </tr>\n",
       "  </thead>\n",
       "  <tbody>\n",
       "    <tr>\n",
       "      <th>0</th>\n",
       "      <td>002724ba2ed196b37d62ea478a139b8d</td>\n",
       "      <td>20170507111217</td>\n",
       "      <td>ea96698e0ac16cc5aaba9fb0b2c8f34e</td>\n",
       "      <td>5b16ed3fe6456f7d73f9ded59ab6bcb0/c28bf7bee965d...</td>\n",
       "      <td>3e717b288d611cf2f5dc6dd94c59e8ea</td>\n",
       "      <td>415b5e22510385dc83143d314005632a</td>\n",
       "      <td>NaN</td>\n",
       "      <td>NaN</td>\n",
       "      <td>NaN</td>\n",
       "      <td>d41ea1af79f76adeb7764b3fd63fc68d.0ec04218402b4...</td>\n",
       "      <td>ebbdbaeaa341bb8e7a7114ecf8e09772 9058079915a01...</td>\n",
       "    </tr>\n",
       "    <tr>\n",
       "      <th>1</th>\n",
       "      <td>002724ba2ed196b37d62ea478a139b8d</td>\n",
       "      <td>20170507234802</td>\n",
       "      <td>ea96698e0ac16cc5aaba9fb0b2c8f34e</td>\n",
       "      <td>5b16ed3fe6456f7d73f9ded59ab6bcb0/c28bf7bee965d...</td>\n",
       "      <td>3e717b288d611cf2f5dc6dd94c59e8ea</td>\n",
       "      <td>415b5e22510385dc83143d314005632a</td>\n",
       "      <td>NaN</td>\n",
       "      <td>NaN</td>\n",
       "      <td>NaN</td>\n",
       "      <td>63a3999f249475f530693d57bad83b8d.bd00614e2a194...</td>\n",
       "      <td>ebbdbaeaa341bb8e7a7114ecf8e09772 9058079915a01...</td>\n",
       "    </tr>\n",
       "    <tr>\n",
       "      <th>2</th>\n",
       "      <td>002724ba2ed196b37d62ea478a139b8d</td>\n",
       "      <td>20170507123950</td>\n",
       "      <td>ea96698e0ac16cc5aaba9fb0b2c8f34e</td>\n",
       "      <td>5b16ed3fe6456f7d73f9ded59ab6bcb0/c28bf7bee965d...</td>\n",
       "      <td>3e717b288d611cf2f5dc6dd94c59e8ea</td>\n",
       "      <td>415b5e22510385dc83143d314005632a</td>\n",
       "      <td>NaN</td>\n",
       "      <td>NaN</td>\n",
       "      <td>NaN</td>\n",
       "      <td>63a3999f249475f530693d57bad83b8d.bd00614e2a194...</td>\n",
       "      <td>ebbdbaeaa341bb8e7a7114ecf8e09772 9058079915a01...</td>\n",
       "    </tr>\n",
       "    <tr>\n",
       "      <th>3</th>\n",
       "      <td>002724ba2ed196b37d62ea478a139b8d</td>\n",
       "      <td>20170507111418</td>\n",
       "      <td>ea96698e0ac16cc5aaba9fb0b2c8f34e</td>\n",
       "      <td>f9601526cbe74adb91394bf363f49fbb/c28bf7bee965d...</td>\n",
       "      <td>3e717b288d611cf2f5dc6dd94c59e8ea</td>\n",
       "      <td>a01662de147eeee349d62a5c25cf999b</td>\n",
       "      <td>NaN</td>\n",
       "      <td>NaN</td>\n",
       "      <td>NaN</td>\n",
       "      <td>d41ea1af79f76adeb7764b3fd63fc68d.0ec04218402b4...</td>\n",
       "      <td>5a2b982eb589374e8b1e70a5045fc0de cd3ecb69d0756...</td>\n",
       "    </tr>\n",
       "    <tr>\n",
       "      <th>4</th>\n",
       "      <td>002724ba2ed196b37d62ea478a139b8d</td>\n",
       "      <td>20170507111304</td>\n",
       "      <td>ea96698e0ac16cc5aaba9fb0b2c8f34e</td>\n",
       "      <td>94b50e99f4739068f9c732eafd8739e8/c28bf7bee965d...</td>\n",
       "      <td>3e717b288d611cf2f5dc6dd94c59e8ea</td>\n",
       "      <td>786cef0c6a9de12b11ef0366986d1974</td>\n",
       "      <td>NaN</td>\n",
       "      <td>NaN</td>\n",
       "      <td>NaN</td>\n",
       "      <td>d41ea1af79f76adeb7764b3fd63fc68d.0ec04218402b4...</td>\n",
       "      <td>2b4189224280ea828cca9435c5231db0 3cf8a8d74f215...</td>\n",
       "    </tr>\n",
       "  </tbody>\n",
       "</table>\n",
       "</div>"
      ],
      "text/plain": [
       "                            user_id       data_time  \\\n",
       "0  002724ba2ed196b37d62ea478a139b8d  20170507111217   \n",
       "1  002724ba2ed196b37d62ea478a139b8d  20170507234802   \n",
       "2  002724ba2ed196b37d62ea478a139b8d  20170507123950   \n",
       "3  002724ba2ed196b37d62ea478a139b8d  20170507111418   \n",
       "4  002724ba2ed196b37d62ea478a139b8d  20170507111304   \n",
       "\n",
       "                           cookieid  \\\n",
       "0  ea96698e0ac16cc5aaba9fb0b2c8f34e   \n",
       "1  ea96698e0ac16cc5aaba9fb0b2c8f34e   \n",
       "2  ea96698e0ac16cc5aaba9fb0b2c8f34e   \n",
       "3  ea96698e0ac16cc5aaba9fb0b2c8f34e   \n",
       "4  ea96698e0ac16cc5aaba9fb0b2c8f34e   \n",
       "\n",
       "                                                 url  \\\n",
       "0  5b16ed3fe6456f7d73f9ded59ab6bcb0/c28bf7bee965d...   \n",
       "1  5b16ed3fe6456f7d73f9ded59ab6bcb0/c28bf7bee965d...   \n",
       "2  5b16ed3fe6456f7d73f9ded59ab6bcb0/c28bf7bee965d...   \n",
       "3  f9601526cbe74adb91394bf363f49fbb/c28bf7bee965d...   \n",
       "4  94b50e99f4739068f9c732eafd8739e8/c28bf7bee965d...   \n",
       "\n",
       "                        url_domain1                       url_domain2  \\\n",
       "0  3e717b288d611cf2f5dc6dd94c59e8ea  415b5e22510385dc83143d314005632a   \n",
       "1  3e717b288d611cf2f5dc6dd94c59e8ea  415b5e22510385dc83143d314005632a   \n",
       "2  3e717b288d611cf2f5dc6dd94c59e8ea  415b5e22510385dc83143d314005632a   \n",
       "3  3e717b288d611cf2f5dc6dd94c59e8ea  a01662de147eeee349d62a5c25cf999b   \n",
       "4  3e717b288d611cf2f5dc6dd94c59e8ea  786cef0c6a9de12b11ef0366986d1974   \n",
       "\n",
       "  search_keyword auction_id shop_id  \\\n",
       "0            NaN        NaN     NaN   \n",
       "1            NaN        NaN     NaN   \n",
       "2            NaN        NaN     NaN   \n",
       "3            NaN        NaN     NaN   \n",
       "4            NaN        NaN     NaN   \n",
       "\n",
       "                                                  ip  \\\n",
       "0  d41ea1af79f76adeb7764b3fd63fc68d.0ec04218402b4...   \n",
       "1  63a3999f249475f530693d57bad83b8d.bd00614e2a194...   \n",
       "2  63a3999f249475f530693d57bad83b8d.bd00614e2a194...   \n",
       "3  d41ea1af79f76adeb7764b3fd63fc68d.0ec04218402b4...   \n",
       "4  d41ea1af79f76adeb7764b3fd63fc68d.0ec04218402b4...   \n",
       "\n",
       "                                               title  \n",
       "0  ebbdbaeaa341bb8e7a7114ecf8e09772 9058079915a01...  \n",
       "1  ebbdbaeaa341bb8e7a7114ecf8e09772 9058079915a01...  \n",
       "2  ebbdbaeaa341bb8e7a7114ecf8e09772 9058079915a01...  \n",
       "3  5a2b982eb589374e8b1e70a5045fc0de cd3ecb69d0756...  \n",
       "4  2b4189224280ea828cca9435c5231db0 3cf8a8d74f215...  "
      ]
     },
     "execution_count": 9,
     "metadata": {},
     "output_type": "execute_result"
    }
   ],
   "source": [
    "cookie_df.head()"
   ]
  },
  {
   "cell_type": "code",
   "execution_count": null,
   "metadata": {},
   "outputs": [],
   "source": []
  },
  {
   "cell_type": "code",
   "execution_count": null,
   "metadata": {},
   "outputs": [],
   "source": [
    "device_id_connection_df = device_df[['device_id_0', 'device_id_1']]\n",
    "device_id_connection_df = device_id_connection_df.drop_duplicates(subset=['device_id_0', 'device_id_1'])\n",
    "len(device_id_connection_df)"
   ]
  },
  {
   "cell_type": "code",
   "execution_count": 9,
   "metadata": {},
   "outputs": [],
   "source": [
    "device_id_connection_df = device_df[['device_id_0', 'device_id_1']]"
   ]
  },
  {
   "cell_type": "code",
   "execution_count": 10,
   "metadata": {},
   "outputs": [],
   "source": [
    "device_id_connection_df = device_id_connection_df.drop_duplicates(subset=['device_id_0', 'device_id_1'])"
   ]
  },
  {
   "cell_type": "code",
   "execution_count": 11,
   "metadata": {},
   "outputs": [
    {
     "data": {
      "text/plain": [
       "286737"
      ]
     },
     "execution_count": 11,
     "metadata": {},
     "output_type": "execute_result"
    }
   ],
   "source": [
    "len(device_id_connection_df)"
   ]
  },
  {
   "cell_type": "code",
   "execution_count": null,
   "metadata": {},
   "outputs": [],
   "source": []
  },
  {
   "cell_type": "code",
   "execution_count": 14,
   "metadata": {},
   "outputs": [
    {
     "name": "stdout",
     "output_type": "stream",
     "text": [
      "CPU times: user 1.86 s, sys: 152 ms, total: 2.01 s\n",
      "Wall time: 2.01 s\n"
     ]
    }
   ],
   "source": [
    "%%time\n",
    "device_g=nx.from_pandas_edgelist(device_id_connection_df, 'device_id_0', 'device_id_1')\n",
    "device_g.remove_nodes_from([np.nan])"
   ]
  },
  {
   "cell_type": "code",
   "execution_count": 16,
   "metadata": {},
   "outputs": [],
   "source": [
    "for node in device_g.nodes(data=True):\n",
    "    if 'type' in node[1].keys():\n",
    "        pass\n",
    "    else:\n",
    "        node[1]['type'] = 'device'"
   ]
  },
  {
   "cell_type": "code",
   "execution_count": 15,
   "metadata": {},
   "outputs": [
    {
     "data": {
      "text/plain": [
       "(544916, 260993)"
      ]
     },
     "execution_count": 15,
     "metadata": {},
     "output_type": "execute_result"
    }
   ],
   "source": [
    "(device_g.number_of_nodes(), device_g.number_of_edges())"
   ]
  },
  {
   "cell_type": "code",
   "execution_count": 17,
   "metadata": {},
   "outputs": [],
   "source": [
    "connected_device_id = nx.connected_components(device_g)\n",
    "\n",
    "node_number_list = list()\n",
    "node_list = list()\n",
    "\n",
    "for index, connected_device_item in enumerate(sorted(connected_device_id, key=len, reverse=True)):\n",
    "    node_number_list.append(len(connected_device_item))\n",
    "    node_list.append(list(connected_device_item))\n",
    "    \n",
    "total_connected_group_number = len(node_number_list)"
   ]
  },
  {
   "cell_type": "code",
   "execution_count": 18,
   "metadata": {},
   "outputs": [
    {
     "data": {
      "text/plain": [
       "283923"
      ]
     },
     "execution_count": 18,
     "metadata": {},
     "output_type": "execute_result"
    }
   ],
   "source": [
    "total_connected_group_number"
   ]
  },
  {
   "cell_type": "code",
   "execution_count": 19,
   "metadata": {},
   "outputs": [
    {
     "data": {
      "text/plain": [
       "[35, 23, 14, 12, 9, 7, 7, 7, 6, 6]"
      ]
     },
     "execution_count": 19,
     "metadata": {},
     "output_type": "execute_result"
    }
   ],
   "source": [
    "node_number_list[0:10]"
   ]
  },
  {
   "cell_type": "code",
   "execution_count": 29,
   "metadata": {},
   "outputs": [],
   "source": [
    "device_mapping_one_to_original = list()\n",
    "device_mapping_original_to_one = list()\n",
    "\n",
    "\n",
    "for node_group in node_list:\n",
    "    \n",
    "    first_id = node_group[0]\n",
    "    \n",
    "    for each_id in node_group:\n",
    "        device_mapping_one_to_original.append([first_id, each_id])\n",
    "        device_mapping_original_to_one.append([each_id, first_id])\n",
    "    "
   ]
  },
  {
   "cell_type": "code",
   "execution_count": null,
   "metadata": {},
   "outputs": [],
   "source": []
  },
  {
   "cell_type": "code",
   "execution_count": 31,
   "metadata": {},
   "outputs": [
    {
     "data": {
      "text/plain": [
       "544916"
      ]
     },
     "execution_count": 31,
     "metadata": {},
     "output_type": "execute_result"
    }
   ],
   "source": [
    "len(device_mapping_original_to_one)"
   ]
  },
  {
   "cell_type": "code",
   "execution_count": 32,
   "metadata": {},
   "outputs": [],
   "source": [
    "device_mapping_df = pd.DataFrame(device_mapping_original_to_one)\n",
    "device_mapping_df.columns = ['source_device_id', 'device_id']"
   ]
  },
  {
   "cell_type": "code",
   "execution_count": 33,
   "metadata": {},
   "outputs": [
    {
     "data": {
      "text/plain": [
       "544916"
      ]
     },
     "execution_count": 33,
     "metadata": {},
     "output_type": "execute_result"
    }
   ],
   "source": [
    "len(device_mapping_df)"
   ]
  },
  {
   "cell_type": "code",
   "execution_count": 34,
   "metadata": {
    "scrolled": false
   },
   "outputs": [
    {
     "data": {
      "text/html": [
       "<div>\n",
       "<style scoped>\n",
       "    .dataframe tbody tr th:only-of-type {\n",
       "        vertical-align: middle;\n",
       "    }\n",
       "\n",
       "    .dataframe tbody tr th {\n",
       "        vertical-align: top;\n",
       "    }\n",
       "\n",
       "    .dataframe thead th {\n",
       "        text-align: right;\n",
       "    }\n",
       "</style>\n",
       "<table border=\"1\" class=\"dataframe\">\n",
       "  <thead>\n",
       "    <tr style=\"text-align: right;\">\n",
       "      <th></th>\n",
       "      <th>source_device_id</th>\n",
       "      <th>device_id</th>\n",
       "    </tr>\n",
       "  </thead>\n",
       "  <tbody>\n",
       "    <tr>\n",
       "      <th>0</th>\n",
       "      <td>441c7d15479435c6a9a2acacf06deae5</td>\n",
       "      <td>441c7d15479435c6a9a2acacf06deae5</td>\n",
       "    </tr>\n",
       "    <tr>\n",
       "      <th>1</th>\n",
       "      <td>d9e5772f19d8bc3ba586ba0a339721b5</td>\n",
       "      <td>441c7d15479435c6a9a2acacf06deae5</td>\n",
       "    </tr>\n",
       "    <tr>\n",
       "      <th>2</th>\n",
       "      <td>f13c2984f77ed2c4e88e934e8949a4fd</td>\n",
       "      <td>441c7d15479435c6a9a2acacf06deae5</td>\n",
       "    </tr>\n",
       "    <tr>\n",
       "      <th>3</th>\n",
       "      <td>07d2d565aa3b84b6a26b252e4c323191</td>\n",
       "      <td>441c7d15479435c6a9a2acacf06deae5</td>\n",
       "    </tr>\n",
       "    <tr>\n",
       "      <th>4</th>\n",
       "      <td>a0c5fd347776292655d6e17c9b9f575b</td>\n",
       "      <td>441c7d15479435c6a9a2acacf06deae5</td>\n",
       "    </tr>\n",
       "  </tbody>\n",
       "</table>\n",
       "</div>"
      ],
      "text/plain": [
       "                   source_device_id                         device_id\n",
       "0  441c7d15479435c6a9a2acacf06deae5  441c7d15479435c6a9a2acacf06deae5\n",
       "1  d9e5772f19d8bc3ba586ba0a339721b5  441c7d15479435c6a9a2acacf06deae5\n",
       "2  f13c2984f77ed2c4e88e934e8949a4fd  441c7d15479435c6a9a2acacf06deae5\n",
       "3  07d2d565aa3b84b6a26b252e4c323191  441c7d15479435c6a9a2acacf06deae5\n",
       "4  a0c5fd347776292655d6e17c9b9f575b  441c7d15479435c6a9a2acacf06deae5"
      ]
     },
     "execution_count": 34,
     "metadata": {},
     "output_type": "execute_result"
    }
   ],
   "source": [
    "device_mapping_df.head()"
   ]
  },
  {
   "cell_type": "code",
   "execution_count": 35,
   "metadata": {},
   "outputs": [],
   "source": [
    "device_mapping_df.to_csv('../alidata/data/device_mapping_train.csv', index=False, header=True)"
   ]
  },
  {
   "cell_type": "code",
   "execution_count": 36,
   "metadata": {},
   "outputs": [],
   "source": [
    "device_mapping_df.set_index('source_device_id', inplace=True)"
   ]
  },
  {
   "cell_type": "code",
   "execution_count": 37,
   "metadata": {},
   "outputs": [],
   "source": [
    "device_df.set_index('device_id_0', inplace=True)"
   ]
  },
  {
   "cell_type": "code",
   "execution_count": 45,
   "metadata": {},
   "outputs": [
    {
     "name": "stdout",
     "output_type": "stream",
     "text": [
      "CPU times: user 15.3 s, sys: 4.23 s, total: 19.6 s\n",
      "Wall time: 19.6 s\n"
     ]
    }
   ],
   "source": [
    "%%time\n",
    "device_df_with_mapping = device_df.join(device_mapping_df)"
   ]
  },
  {
   "cell_type": "code",
   "execution_count": 46,
   "metadata": {},
   "outputs": [
    {
     "data": {
      "text/html": [
       "<div>\n",
       "<style scoped>\n",
       "    .dataframe tbody tr th:only-of-type {\n",
       "        vertical-align: middle;\n",
       "    }\n",
       "\n",
       "    .dataframe tbody tr th {\n",
       "        vertical-align: top;\n",
       "    }\n",
       "\n",
       "    .dataframe thead th {\n",
       "        text-align: right;\n",
       "    }\n",
       "</style>\n",
       "<table border=\"1\" class=\"dataframe\">\n",
       "  <thead>\n",
       "    <tr style=\"text-align: right;\">\n",
       "      <th></th>\n",
       "      <th>user_id</th>\n",
       "      <th>device_id_1</th>\n",
       "      <th>device_id_2</th>\n",
       "      <th>ip</th>\n",
       "      <th>search_keyword</th>\n",
       "      <th>auction_id</th>\n",
       "      <th>shop_id</th>\n",
       "      <th>geohash6</th>\n",
       "      <th>geohash7</th>\n",
       "      <th>geohash8</th>\n",
       "      <th>reach_time</th>\n",
       "      <th>os</th>\n",
       "      <th>device_id</th>\n",
       "    </tr>\n",
       "  </thead>\n",
       "  <tbody>\n",
       "    <tr>\n",
       "      <th>00007b3b618f2b616854f4d74cfdde7c</th>\n",
       "      <td>fb3b4f20bc4d5b8346d1fe20dd89ba78</td>\n",
       "      <td>dc8cdfc596d369f232c2d431c4958e61</td>\n",
       "      <td>NaN</td>\n",
       "      <td>63a3999f249475f530693d57bad83b8d.fb98177bac9c7...</td>\n",
       "      <td>44b8b396a80d775523db7a6c2154efda 1f533b3a58e3b...</td>\n",
       "      <td>NaN</td>\n",
       "      <td>NaN</td>\n",
       "      <td>NaN</td>\n",
       "      <td>NaN</td>\n",
       "      <td>NaN</td>\n",
       "      <td>20170506110511</td>\n",
       "      <td>Android</td>\n",
       "      <td>dc8cdfc596d369f232c2d431c4958e61</td>\n",
       "    </tr>\n",
       "    <tr>\n",
       "      <th>00007b3b618f2b616854f4d74cfdde7c</th>\n",
       "      <td>fb3b4f20bc4d5b8346d1fe20dd89ba78</td>\n",
       "      <td>dc8cdfc596d369f232c2d431c4958e61</td>\n",
       "      <td>NaN</td>\n",
       "      <td>63a3999f249475f530693d57bad83b8d.fb98177bac9c7...</td>\n",
       "      <td>44b8b396a80d775523db7a6c2154efda e579211e16a3e...</td>\n",
       "      <td>NaN</td>\n",
       "      <td>NaN</td>\n",
       "      <td>NaN</td>\n",
       "      <td>NaN</td>\n",
       "      <td>NaN</td>\n",
       "      <td>20170506104958</td>\n",
       "      <td>Android</td>\n",
       "      <td>dc8cdfc596d369f232c2d431c4958e61</td>\n",
       "    </tr>\n",
       "    <tr>\n",
       "      <th>00007b3b618f2b616854f4d74cfdde7c</th>\n",
       "      <td>fb3b4f20bc4d5b8346d1fe20dd89ba78</td>\n",
       "      <td>dc8cdfc596d369f232c2d431c4958e61</td>\n",
       "      <td>NaN</td>\n",
       "      <td>63a3999f249475f530693d57bad83b8d.fb98177bac9c7...</td>\n",
       "      <td>44b8b396a80d775523db7a6c2154efda e579211e16a3e...</td>\n",
       "      <td>50c5f83051f4fd8c5ed5821aae68a806</td>\n",
       "      <td>fdbf986db5aef38b25871fea2c90621c</td>\n",
       "      <td>NaN</td>\n",
       "      <td>NaN</td>\n",
       "      <td>NaN</td>\n",
       "      <td>20170506104926</td>\n",
       "      <td>Android</td>\n",
       "      <td>dc8cdfc596d369f232c2d431c4958e61</td>\n",
       "    </tr>\n",
       "    <tr>\n",
       "      <th>00007b3b618f2b616854f4d74cfdde7c</th>\n",
       "      <td>fb3b4f20bc4d5b8346d1fe20dd89ba78</td>\n",
       "      <td>dc8cdfc596d369f232c2d431c4958e61</td>\n",
       "      <td>NaN</td>\n",
       "      <td>63a3999f249475f530693d57bad83b8d.fb98177bac9c7...</td>\n",
       "      <td>44b8b396a80d775523db7a6c2154efda e579211e16a3e...</td>\n",
       "      <td>NaN</td>\n",
       "      <td>NaN</td>\n",
       "      <td>NaN</td>\n",
       "      <td>NaN</td>\n",
       "      <td>NaN</td>\n",
       "      <td>20170506105031</td>\n",
       "      <td>Android</td>\n",
       "      <td>dc8cdfc596d369f232c2d431c4958e61</td>\n",
       "    </tr>\n",
       "    <tr>\n",
       "      <th>00007b3b618f2b616854f4d74cfdde7c</th>\n",
       "      <td>fb3b4f20bc4d5b8346d1fe20dd89ba78</td>\n",
       "      <td>dc8cdfc596d369f232c2d431c4958e61</td>\n",
       "      <td>NaN</td>\n",
       "      <td>63a3999f249475f530693d57bad83b8d.fb98177bac9c7...</td>\n",
       "      <td>44b8b396a80d775523db7a6c2154efda 1f533b3a58e3b...</td>\n",
       "      <td>NaN</td>\n",
       "      <td>NaN</td>\n",
       "      <td>NaN</td>\n",
       "      <td>NaN</td>\n",
       "      <td>NaN</td>\n",
       "      <td>20170506105324</td>\n",
       "      <td>Android</td>\n",
       "      <td>dc8cdfc596d369f232c2d431c4958e61</td>\n",
       "    </tr>\n",
       "  </tbody>\n",
       "</table>\n",
       "</div>"
      ],
      "text/plain": [
       "                                                           user_id  \\\n",
       "00007b3b618f2b616854f4d74cfdde7c  fb3b4f20bc4d5b8346d1fe20dd89ba78   \n",
       "00007b3b618f2b616854f4d74cfdde7c  fb3b4f20bc4d5b8346d1fe20dd89ba78   \n",
       "00007b3b618f2b616854f4d74cfdde7c  fb3b4f20bc4d5b8346d1fe20dd89ba78   \n",
       "00007b3b618f2b616854f4d74cfdde7c  fb3b4f20bc4d5b8346d1fe20dd89ba78   \n",
       "00007b3b618f2b616854f4d74cfdde7c  fb3b4f20bc4d5b8346d1fe20dd89ba78   \n",
       "\n",
       "                                                       device_id_1  \\\n",
       "00007b3b618f2b616854f4d74cfdde7c  dc8cdfc596d369f232c2d431c4958e61   \n",
       "00007b3b618f2b616854f4d74cfdde7c  dc8cdfc596d369f232c2d431c4958e61   \n",
       "00007b3b618f2b616854f4d74cfdde7c  dc8cdfc596d369f232c2d431c4958e61   \n",
       "00007b3b618f2b616854f4d74cfdde7c  dc8cdfc596d369f232c2d431c4958e61   \n",
       "00007b3b618f2b616854f4d74cfdde7c  dc8cdfc596d369f232c2d431c4958e61   \n",
       "\n",
       "                                 device_id_2  \\\n",
       "00007b3b618f2b616854f4d74cfdde7c         NaN   \n",
       "00007b3b618f2b616854f4d74cfdde7c         NaN   \n",
       "00007b3b618f2b616854f4d74cfdde7c         NaN   \n",
       "00007b3b618f2b616854f4d74cfdde7c         NaN   \n",
       "00007b3b618f2b616854f4d74cfdde7c         NaN   \n",
       "\n",
       "                                                                                 ip  \\\n",
       "00007b3b618f2b616854f4d74cfdde7c  63a3999f249475f530693d57bad83b8d.fb98177bac9c7...   \n",
       "00007b3b618f2b616854f4d74cfdde7c  63a3999f249475f530693d57bad83b8d.fb98177bac9c7...   \n",
       "00007b3b618f2b616854f4d74cfdde7c  63a3999f249475f530693d57bad83b8d.fb98177bac9c7...   \n",
       "00007b3b618f2b616854f4d74cfdde7c  63a3999f249475f530693d57bad83b8d.fb98177bac9c7...   \n",
       "00007b3b618f2b616854f4d74cfdde7c  63a3999f249475f530693d57bad83b8d.fb98177bac9c7...   \n",
       "\n",
       "                                                                     search_keyword  \\\n",
       "00007b3b618f2b616854f4d74cfdde7c  44b8b396a80d775523db7a6c2154efda 1f533b3a58e3b...   \n",
       "00007b3b618f2b616854f4d74cfdde7c  44b8b396a80d775523db7a6c2154efda e579211e16a3e...   \n",
       "00007b3b618f2b616854f4d74cfdde7c  44b8b396a80d775523db7a6c2154efda e579211e16a3e...   \n",
       "00007b3b618f2b616854f4d74cfdde7c  44b8b396a80d775523db7a6c2154efda e579211e16a3e...   \n",
       "00007b3b618f2b616854f4d74cfdde7c  44b8b396a80d775523db7a6c2154efda 1f533b3a58e3b...   \n",
       "\n",
       "                                                        auction_id  \\\n",
       "00007b3b618f2b616854f4d74cfdde7c                               NaN   \n",
       "00007b3b618f2b616854f4d74cfdde7c                               NaN   \n",
       "00007b3b618f2b616854f4d74cfdde7c  50c5f83051f4fd8c5ed5821aae68a806   \n",
       "00007b3b618f2b616854f4d74cfdde7c                               NaN   \n",
       "00007b3b618f2b616854f4d74cfdde7c                               NaN   \n",
       "\n",
       "                                                           shop_id  geohash6  \\\n",
       "00007b3b618f2b616854f4d74cfdde7c                               NaN       NaN   \n",
       "00007b3b618f2b616854f4d74cfdde7c                               NaN       NaN   \n",
       "00007b3b618f2b616854f4d74cfdde7c  fdbf986db5aef38b25871fea2c90621c       NaN   \n",
       "00007b3b618f2b616854f4d74cfdde7c                               NaN       NaN   \n",
       "00007b3b618f2b616854f4d74cfdde7c                               NaN       NaN   \n",
       "\n",
       "                                  geohash7  geohash8      reach_time       os  \\\n",
       "00007b3b618f2b616854f4d74cfdde7c       NaN       NaN  20170506110511  Android   \n",
       "00007b3b618f2b616854f4d74cfdde7c       NaN       NaN  20170506104958  Android   \n",
       "00007b3b618f2b616854f4d74cfdde7c       NaN       NaN  20170506104926  Android   \n",
       "00007b3b618f2b616854f4d74cfdde7c       NaN       NaN  20170506105031  Android   \n",
       "00007b3b618f2b616854f4d74cfdde7c       NaN       NaN  20170506105324  Android   \n",
       "\n",
       "                                                         device_id  \n",
       "00007b3b618f2b616854f4d74cfdde7c  dc8cdfc596d369f232c2d431c4958e61  \n",
       "00007b3b618f2b616854f4d74cfdde7c  dc8cdfc596d369f232c2d431c4958e61  \n",
       "00007b3b618f2b616854f4d74cfdde7c  dc8cdfc596d369f232c2d431c4958e61  \n",
       "00007b3b618f2b616854f4d74cfdde7c  dc8cdfc596d369f232c2d431c4958e61  \n",
       "00007b3b618f2b616854f4d74cfdde7c  dc8cdfc596d369f232c2d431c4958e61  "
      ]
     },
     "execution_count": 46,
     "metadata": {},
     "output_type": "execute_result"
    }
   ],
   "source": [
    "device_df_with_mapping.head()"
   ]
  },
  {
   "cell_type": "code",
   "execution_count": 47,
   "metadata": {},
   "outputs": [],
   "source": [
    "device_df_with_mapping.reset_index(inplace=True)"
   ]
  },
  {
   "cell_type": "code",
   "execution_count": 48,
   "metadata": {},
   "outputs": [
    {
     "data": {
      "text/plain": [
       "Index(['index', 'user_id', 'device_id_1', 'device_id_2', 'ip',\n",
       "       'search_keyword', 'auction_id', 'shop_id', 'geohash6', 'geohash7',\n",
       "       'geohash8', 'reach_time', 'os', 'device_id'],\n",
       "      dtype='object')"
      ]
     },
     "execution_count": 48,
     "metadata": {},
     "output_type": "execute_result"
    }
   ],
   "source": [
    "device_df_with_mapping.columns"
   ]
  },
  {
   "cell_type": "code",
   "execution_count": 49,
   "metadata": {},
   "outputs": [
    {
     "data": {
      "text/html": [
       "<div>\n",
       "<style scoped>\n",
       "    .dataframe tbody tr th:only-of-type {\n",
       "        vertical-align: middle;\n",
       "    }\n",
       "\n",
       "    .dataframe tbody tr th {\n",
       "        vertical-align: top;\n",
       "    }\n",
       "\n",
       "    .dataframe thead th {\n",
       "        text-align: right;\n",
       "    }\n",
       "</style>\n",
       "<table border=\"1\" class=\"dataframe\">\n",
       "  <thead>\n",
       "    <tr style=\"text-align: right;\">\n",
       "      <th></th>\n",
       "      <th>index</th>\n",
       "      <th>user_id</th>\n",
       "      <th>device_id_1</th>\n",
       "      <th>device_id_2</th>\n",
       "      <th>ip</th>\n",
       "      <th>search_keyword</th>\n",
       "      <th>auction_id</th>\n",
       "      <th>shop_id</th>\n",
       "      <th>geohash6</th>\n",
       "      <th>geohash7</th>\n",
       "      <th>geohash8</th>\n",
       "      <th>reach_time</th>\n",
       "      <th>os</th>\n",
       "      <th>device_id</th>\n",
       "    </tr>\n",
       "  </thead>\n",
       "  <tbody>\n",
       "    <tr>\n",
       "      <th>0</th>\n",
       "      <td>00007b3b618f2b616854f4d74cfdde7c</td>\n",
       "      <td>fb3b4f20bc4d5b8346d1fe20dd89ba78</td>\n",
       "      <td>dc8cdfc596d369f232c2d431c4958e61</td>\n",
       "      <td>NaN</td>\n",
       "      <td>63a3999f249475f530693d57bad83b8d.fb98177bac9c7...</td>\n",
       "      <td>44b8b396a80d775523db7a6c2154efda 1f533b3a58e3b...</td>\n",
       "      <td>NaN</td>\n",
       "      <td>NaN</td>\n",
       "      <td>NaN</td>\n",
       "      <td>NaN</td>\n",
       "      <td>NaN</td>\n",
       "      <td>20170506110511</td>\n",
       "      <td>Android</td>\n",
       "      <td>dc8cdfc596d369f232c2d431c4958e61</td>\n",
       "    </tr>\n",
       "    <tr>\n",
       "      <th>1</th>\n",
       "      <td>00007b3b618f2b616854f4d74cfdde7c</td>\n",
       "      <td>fb3b4f20bc4d5b8346d1fe20dd89ba78</td>\n",
       "      <td>dc8cdfc596d369f232c2d431c4958e61</td>\n",
       "      <td>NaN</td>\n",
       "      <td>63a3999f249475f530693d57bad83b8d.fb98177bac9c7...</td>\n",
       "      <td>44b8b396a80d775523db7a6c2154efda e579211e16a3e...</td>\n",
       "      <td>NaN</td>\n",
       "      <td>NaN</td>\n",
       "      <td>NaN</td>\n",
       "      <td>NaN</td>\n",
       "      <td>NaN</td>\n",
       "      <td>20170506104958</td>\n",
       "      <td>Android</td>\n",
       "      <td>dc8cdfc596d369f232c2d431c4958e61</td>\n",
       "    </tr>\n",
       "    <tr>\n",
       "      <th>2</th>\n",
       "      <td>00007b3b618f2b616854f4d74cfdde7c</td>\n",
       "      <td>fb3b4f20bc4d5b8346d1fe20dd89ba78</td>\n",
       "      <td>dc8cdfc596d369f232c2d431c4958e61</td>\n",
       "      <td>NaN</td>\n",
       "      <td>63a3999f249475f530693d57bad83b8d.fb98177bac9c7...</td>\n",
       "      <td>44b8b396a80d775523db7a6c2154efda e579211e16a3e...</td>\n",
       "      <td>50c5f83051f4fd8c5ed5821aae68a806</td>\n",
       "      <td>fdbf986db5aef38b25871fea2c90621c</td>\n",
       "      <td>NaN</td>\n",
       "      <td>NaN</td>\n",
       "      <td>NaN</td>\n",
       "      <td>20170506104926</td>\n",
       "      <td>Android</td>\n",
       "      <td>dc8cdfc596d369f232c2d431c4958e61</td>\n",
       "    </tr>\n",
       "    <tr>\n",
       "      <th>3</th>\n",
       "      <td>00007b3b618f2b616854f4d74cfdde7c</td>\n",
       "      <td>fb3b4f20bc4d5b8346d1fe20dd89ba78</td>\n",
       "      <td>dc8cdfc596d369f232c2d431c4958e61</td>\n",
       "      <td>NaN</td>\n",
       "      <td>63a3999f249475f530693d57bad83b8d.fb98177bac9c7...</td>\n",
       "      <td>44b8b396a80d775523db7a6c2154efda e579211e16a3e...</td>\n",
       "      <td>NaN</td>\n",
       "      <td>NaN</td>\n",
       "      <td>NaN</td>\n",
       "      <td>NaN</td>\n",
       "      <td>NaN</td>\n",
       "      <td>20170506105031</td>\n",
       "      <td>Android</td>\n",
       "      <td>dc8cdfc596d369f232c2d431c4958e61</td>\n",
       "    </tr>\n",
       "    <tr>\n",
       "      <th>4</th>\n",
       "      <td>00007b3b618f2b616854f4d74cfdde7c</td>\n",
       "      <td>fb3b4f20bc4d5b8346d1fe20dd89ba78</td>\n",
       "      <td>dc8cdfc596d369f232c2d431c4958e61</td>\n",
       "      <td>NaN</td>\n",
       "      <td>63a3999f249475f530693d57bad83b8d.fb98177bac9c7...</td>\n",
       "      <td>44b8b396a80d775523db7a6c2154efda 1f533b3a58e3b...</td>\n",
       "      <td>NaN</td>\n",
       "      <td>NaN</td>\n",
       "      <td>NaN</td>\n",
       "      <td>NaN</td>\n",
       "      <td>NaN</td>\n",
       "      <td>20170506105324</td>\n",
       "      <td>Android</td>\n",
       "      <td>dc8cdfc596d369f232c2d431c4958e61</td>\n",
       "    </tr>\n",
       "  </tbody>\n",
       "</table>\n",
       "</div>"
      ],
      "text/plain": [
       "                              index                           user_id  \\\n",
       "0  00007b3b618f2b616854f4d74cfdde7c  fb3b4f20bc4d5b8346d1fe20dd89ba78   \n",
       "1  00007b3b618f2b616854f4d74cfdde7c  fb3b4f20bc4d5b8346d1fe20dd89ba78   \n",
       "2  00007b3b618f2b616854f4d74cfdde7c  fb3b4f20bc4d5b8346d1fe20dd89ba78   \n",
       "3  00007b3b618f2b616854f4d74cfdde7c  fb3b4f20bc4d5b8346d1fe20dd89ba78   \n",
       "4  00007b3b618f2b616854f4d74cfdde7c  fb3b4f20bc4d5b8346d1fe20dd89ba78   \n",
       "\n",
       "                        device_id_1 device_id_2  \\\n",
       "0  dc8cdfc596d369f232c2d431c4958e61         NaN   \n",
       "1  dc8cdfc596d369f232c2d431c4958e61         NaN   \n",
       "2  dc8cdfc596d369f232c2d431c4958e61         NaN   \n",
       "3  dc8cdfc596d369f232c2d431c4958e61         NaN   \n",
       "4  dc8cdfc596d369f232c2d431c4958e61         NaN   \n",
       "\n",
       "                                                  ip  \\\n",
       "0  63a3999f249475f530693d57bad83b8d.fb98177bac9c7...   \n",
       "1  63a3999f249475f530693d57bad83b8d.fb98177bac9c7...   \n",
       "2  63a3999f249475f530693d57bad83b8d.fb98177bac9c7...   \n",
       "3  63a3999f249475f530693d57bad83b8d.fb98177bac9c7...   \n",
       "4  63a3999f249475f530693d57bad83b8d.fb98177bac9c7...   \n",
       "\n",
       "                                      search_keyword  \\\n",
       "0  44b8b396a80d775523db7a6c2154efda 1f533b3a58e3b...   \n",
       "1  44b8b396a80d775523db7a6c2154efda e579211e16a3e...   \n",
       "2  44b8b396a80d775523db7a6c2154efda e579211e16a3e...   \n",
       "3  44b8b396a80d775523db7a6c2154efda e579211e16a3e...   \n",
       "4  44b8b396a80d775523db7a6c2154efda 1f533b3a58e3b...   \n",
       "\n",
       "                         auction_id                           shop_id  \\\n",
       "0                               NaN                               NaN   \n",
       "1                               NaN                               NaN   \n",
       "2  50c5f83051f4fd8c5ed5821aae68a806  fdbf986db5aef38b25871fea2c90621c   \n",
       "3                               NaN                               NaN   \n",
       "4                               NaN                               NaN   \n",
       "\n",
       "   geohash6  geohash7  geohash8      reach_time       os  \\\n",
       "0       NaN       NaN       NaN  20170506110511  Android   \n",
       "1       NaN       NaN       NaN  20170506104958  Android   \n",
       "2       NaN       NaN       NaN  20170506104926  Android   \n",
       "3       NaN       NaN       NaN  20170506105031  Android   \n",
       "4       NaN       NaN       NaN  20170506105324  Android   \n",
       "\n",
       "                          device_id  \n",
       "0  dc8cdfc596d369f232c2d431c4958e61  \n",
       "1  dc8cdfc596d369f232c2d431c4958e61  \n",
       "2  dc8cdfc596d369f232c2d431c4958e61  \n",
       "3  dc8cdfc596d369f232c2d431c4958e61  \n",
       "4  dc8cdfc596d369f232c2d431c4958e61  "
      ]
     },
     "execution_count": 49,
     "metadata": {},
     "output_type": "execute_result"
    }
   ],
   "source": []
  },
  {
   "cell_type": "code",
   "execution_count": 50,
   "metadata": {},
   "outputs": [],
   "source": [
    "device_df_with_mapping.columns = ['device_id_0', 'user_id', 'device_id_1', 'device_id_2', 'ip', 'search_keyword',\n",
    "       'auction_id', 'shop_id', 'geohash6', 'geohash7', 'geohash8',\n",
    "       'reach_time', 'os', 'device_id_from_0']"
   ]
  },
  {
   "cell_type": "code",
   "execution_count": 51,
   "metadata": {},
   "outputs": [],
   "source": [
    "device_df_with_mapping.set_index('device_id_1', inplace=True)"
   ]
  },
  {
   "cell_type": "code",
   "execution_count": 52,
   "metadata": {},
   "outputs": [
    {
     "name": "stdout",
     "output_type": "stream",
     "text": [
      "CPU times: user 11.2 s, sys: 2.88 s, total: 14.1 s\n",
      "Wall time: 14.1 s\n"
     ]
    }
   ],
   "source": [
    "%%time\n",
    "device_df_with_mapping = device_df_with_mapping.join(device_mapping_df)"
   ]
  },
  {
   "cell_type": "code",
   "execution_count": 53,
   "metadata": {},
   "outputs": [
    {
     "data": {
      "text/html": [
       "<div>\n",
       "<style scoped>\n",
       "    .dataframe tbody tr th:only-of-type {\n",
       "        vertical-align: middle;\n",
       "    }\n",
       "\n",
       "    .dataframe tbody tr th {\n",
       "        vertical-align: top;\n",
       "    }\n",
       "\n",
       "    .dataframe thead th {\n",
       "        text-align: right;\n",
       "    }\n",
       "</style>\n",
       "<table border=\"1\" class=\"dataframe\">\n",
       "  <thead>\n",
       "    <tr style=\"text-align: right;\">\n",
       "      <th></th>\n",
       "      <th>device_id_0</th>\n",
       "      <th>user_id</th>\n",
       "      <th>device_id_2</th>\n",
       "      <th>ip</th>\n",
       "      <th>search_keyword</th>\n",
       "      <th>auction_id</th>\n",
       "      <th>shop_id</th>\n",
       "      <th>geohash6</th>\n",
       "      <th>geohash7</th>\n",
       "      <th>geohash8</th>\n",
       "      <th>reach_time</th>\n",
       "      <th>os</th>\n",
       "      <th>device_id_from_0</th>\n",
       "      <th>device_id</th>\n",
       "    </tr>\n",
       "  </thead>\n",
       "  <tbody>\n",
       "    <tr>\n",
       "      <th>00001088566af342b421f9d13a5f9d17</th>\n",
       "      <td>f63a7ac8a39bd8365fd3cbb3ca5d7ece</td>\n",
       "      <td>7ca92be942981d88c88cb2111ccaa283</td>\n",
       "      <td>NaN</td>\n",
       "      <td>63a3999f249475f530693d57bad83b8d.fb98177bac9c7...</td>\n",
       "      <td>3a0419f4545277349c54772eaf0eb9f3</td>\n",
       "      <td>NaN</td>\n",
       "      <td>a917325b9ec0eef767f2547517d51f27</td>\n",
       "      <td>NaN</td>\n",
       "      <td>NaN</td>\n",
       "      <td>NaN</td>\n",
       "      <td>20170503010056</td>\n",
       "      <td>Android</td>\n",
       "      <td>00001088566af342b421f9d13a5f9d17</td>\n",
       "      <td>00001088566af342b421f9d13a5f9d17</td>\n",
       "    </tr>\n",
       "    <tr>\n",
       "      <th>00001088566af342b421f9d13a5f9d17</th>\n",
       "      <td>f63a7ac8a39bd8365fd3cbb3ca5d7ece</td>\n",
       "      <td>7ca92be942981d88c88cb2111ccaa283</td>\n",
       "      <td>NaN</td>\n",
       "      <td>63a3999f249475f530693d57bad83b8d.fb98177bac9c7...</td>\n",
       "      <td>3a0419f4545277349c54772eaf0eb9f3</td>\n",
       "      <td>NaN</td>\n",
       "      <td>NaN</td>\n",
       "      <td>NaN</td>\n",
       "      <td>NaN</td>\n",
       "      <td>NaN</td>\n",
       "      <td>20170503010506</td>\n",
       "      <td>Android</td>\n",
       "      <td>00001088566af342b421f9d13a5f9d17</td>\n",
       "      <td>00001088566af342b421f9d13a5f9d17</td>\n",
       "    </tr>\n",
       "    <tr>\n",
       "      <th>00001088566af342b421f9d13a5f9d17</th>\n",
       "      <td>f63a7ac8a39bd8365fd3cbb3ca5d7ece</td>\n",
       "      <td>7ca92be942981d88c88cb2111ccaa283</td>\n",
       "      <td>NaN</td>\n",
       "      <td>63a3999f249475f530693d57bad83b8d.fb98177bac9c7...</td>\n",
       "      <td>05a2338992b14cad5a6fb558640a33e2 3b446e081b380...</td>\n",
       "      <td>NaN</td>\n",
       "      <td>NaN</td>\n",
       "      <td>NaN</td>\n",
       "      <td>NaN</td>\n",
       "      <td>NaN</td>\n",
       "      <td>20170503010717</td>\n",
       "      <td>Android</td>\n",
       "      <td>00001088566af342b421f9d13a5f9d17</td>\n",
       "      <td>00001088566af342b421f9d13a5f9d17</td>\n",
       "    </tr>\n",
       "    <tr>\n",
       "      <th>00001088566af342b421f9d13a5f9d17</th>\n",
       "      <td>f63a7ac8a39bd8365fd3cbb3ca5d7ece</td>\n",
       "      <td>7ca92be942981d88c88cb2111ccaa283</td>\n",
       "      <td>NaN</td>\n",
       "      <td>63a3999f249475f530693d57bad83b8d.fb98177bac9c7...</td>\n",
       "      <td>05a2338992b14cad5a6fb558640a33e2 15de2152867a1...</td>\n",
       "      <td>NaN</td>\n",
       "      <td>NaN</td>\n",
       "      <td>NaN</td>\n",
       "      <td>NaN</td>\n",
       "      <td>NaN</td>\n",
       "      <td>20170503011105</td>\n",
       "      <td>Android</td>\n",
       "      <td>00001088566af342b421f9d13a5f9d17</td>\n",
       "      <td>00001088566af342b421f9d13a5f9d17</td>\n",
       "    </tr>\n",
       "    <tr>\n",
       "      <th>00001088566af342b421f9d13a5f9d17</th>\n",
       "      <td>f63a7ac8a39bd8365fd3cbb3ca5d7ece</td>\n",
       "      <td>7ca92be942981d88c88cb2111ccaa283</td>\n",
       "      <td>NaN</td>\n",
       "      <td>63a3999f249475f530693d57bad83b8d.fb98177bac9c7...</td>\n",
       "      <td>05a2338992b14cad5a6fb558640a33e2 3b446e081b380...</td>\n",
       "      <td>8ab7b5701b923e1babad577e2cebc824</td>\n",
       "      <td>d3158d724850a3773931bb03fb06b797</td>\n",
       "      <td>NaN</td>\n",
       "      <td>NaN</td>\n",
       "      <td>NaN</td>\n",
       "      <td>20170503010611</td>\n",
       "      <td>Android</td>\n",
       "      <td>00001088566af342b421f9d13a5f9d17</td>\n",
       "      <td>00001088566af342b421f9d13a5f9d17</td>\n",
       "    </tr>\n",
       "  </tbody>\n",
       "</table>\n",
       "</div>"
      ],
      "text/plain": [
       "                                                       device_id_0  \\\n",
       "00001088566af342b421f9d13a5f9d17  f63a7ac8a39bd8365fd3cbb3ca5d7ece   \n",
       "00001088566af342b421f9d13a5f9d17  f63a7ac8a39bd8365fd3cbb3ca5d7ece   \n",
       "00001088566af342b421f9d13a5f9d17  f63a7ac8a39bd8365fd3cbb3ca5d7ece   \n",
       "00001088566af342b421f9d13a5f9d17  f63a7ac8a39bd8365fd3cbb3ca5d7ece   \n",
       "00001088566af342b421f9d13a5f9d17  f63a7ac8a39bd8365fd3cbb3ca5d7ece   \n",
       "\n",
       "                                                           user_id  \\\n",
       "00001088566af342b421f9d13a5f9d17  7ca92be942981d88c88cb2111ccaa283   \n",
       "00001088566af342b421f9d13a5f9d17  7ca92be942981d88c88cb2111ccaa283   \n",
       "00001088566af342b421f9d13a5f9d17  7ca92be942981d88c88cb2111ccaa283   \n",
       "00001088566af342b421f9d13a5f9d17  7ca92be942981d88c88cb2111ccaa283   \n",
       "00001088566af342b421f9d13a5f9d17  7ca92be942981d88c88cb2111ccaa283   \n",
       "\n",
       "                                 device_id_2  \\\n",
       "00001088566af342b421f9d13a5f9d17         NaN   \n",
       "00001088566af342b421f9d13a5f9d17         NaN   \n",
       "00001088566af342b421f9d13a5f9d17         NaN   \n",
       "00001088566af342b421f9d13a5f9d17         NaN   \n",
       "00001088566af342b421f9d13a5f9d17         NaN   \n",
       "\n",
       "                                                                                 ip  \\\n",
       "00001088566af342b421f9d13a5f9d17  63a3999f249475f530693d57bad83b8d.fb98177bac9c7...   \n",
       "00001088566af342b421f9d13a5f9d17  63a3999f249475f530693d57bad83b8d.fb98177bac9c7...   \n",
       "00001088566af342b421f9d13a5f9d17  63a3999f249475f530693d57bad83b8d.fb98177bac9c7...   \n",
       "00001088566af342b421f9d13a5f9d17  63a3999f249475f530693d57bad83b8d.fb98177bac9c7...   \n",
       "00001088566af342b421f9d13a5f9d17  63a3999f249475f530693d57bad83b8d.fb98177bac9c7...   \n",
       "\n",
       "                                                                     search_keyword  \\\n",
       "00001088566af342b421f9d13a5f9d17                   3a0419f4545277349c54772eaf0eb9f3   \n",
       "00001088566af342b421f9d13a5f9d17                   3a0419f4545277349c54772eaf0eb9f3   \n",
       "00001088566af342b421f9d13a5f9d17  05a2338992b14cad5a6fb558640a33e2 3b446e081b380...   \n",
       "00001088566af342b421f9d13a5f9d17  05a2338992b14cad5a6fb558640a33e2 15de2152867a1...   \n",
       "00001088566af342b421f9d13a5f9d17  05a2338992b14cad5a6fb558640a33e2 3b446e081b380...   \n",
       "\n",
       "                                                        auction_id  \\\n",
       "00001088566af342b421f9d13a5f9d17                               NaN   \n",
       "00001088566af342b421f9d13a5f9d17                               NaN   \n",
       "00001088566af342b421f9d13a5f9d17                               NaN   \n",
       "00001088566af342b421f9d13a5f9d17                               NaN   \n",
       "00001088566af342b421f9d13a5f9d17  8ab7b5701b923e1babad577e2cebc824   \n",
       "\n",
       "                                                           shop_id  geohash6  \\\n",
       "00001088566af342b421f9d13a5f9d17  a917325b9ec0eef767f2547517d51f27       NaN   \n",
       "00001088566af342b421f9d13a5f9d17                               NaN       NaN   \n",
       "00001088566af342b421f9d13a5f9d17                               NaN       NaN   \n",
       "00001088566af342b421f9d13a5f9d17                               NaN       NaN   \n",
       "00001088566af342b421f9d13a5f9d17  d3158d724850a3773931bb03fb06b797       NaN   \n",
       "\n",
       "                                  geohash7  geohash8      reach_time       os  \\\n",
       "00001088566af342b421f9d13a5f9d17       NaN       NaN  20170503010056  Android   \n",
       "00001088566af342b421f9d13a5f9d17       NaN       NaN  20170503010506  Android   \n",
       "00001088566af342b421f9d13a5f9d17       NaN       NaN  20170503010717  Android   \n",
       "00001088566af342b421f9d13a5f9d17       NaN       NaN  20170503011105  Android   \n",
       "00001088566af342b421f9d13a5f9d17       NaN       NaN  20170503010611  Android   \n",
       "\n",
       "                                                  device_id_from_0  \\\n",
       "00001088566af342b421f9d13a5f9d17  00001088566af342b421f9d13a5f9d17   \n",
       "00001088566af342b421f9d13a5f9d17  00001088566af342b421f9d13a5f9d17   \n",
       "00001088566af342b421f9d13a5f9d17  00001088566af342b421f9d13a5f9d17   \n",
       "00001088566af342b421f9d13a5f9d17  00001088566af342b421f9d13a5f9d17   \n",
       "00001088566af342b421f9d13a5f9d17  00001088566af342b421f9d13a5f9d17   \n",
       "\n",
       "                                                         device_id  \n",
       "00001088566af342b421f9d13a5f9d17  00001088566af342b421f9d13a5f9d17  \n",
       "00001088566af342b421f9d13a5f9d17  00001088566af342b421f9d13a5f9d17  \n",
       "00001088566af342b421f9d13a5f9d17  00001088566af342b421f9d13a5f9d17  \n",
       "00001088566af342b421f9d13a5f9d17  00001088566af342b421f9d13a5f9d17  \n",
       "00001088566af342b421f9d13a5f9d17  00001088566af342b421f9d13a5f9d17  "
      ]
     },
     "execution_count": 53,
     "metadata": {},
     "output_type": "execute_result"
    }
   ],
   "source": [
    "device_df_with_mapping.head()"
   ]
  },
  {
   "cell_type": "code",
   "execution_count": 54,
   "metadata": {},
   "outputs": [],
   "source": [
    "device_df_with_mapping.reset_index(inplace=True)"
   ]
  },
  {
   "cell_type": "code",
   "execution_count": 55,
   "metadata": {},
   "outputs": [
    {
     "data": {
      "text/html": [
       "<div>\n",
       "<style scoped>\n",
       "    .dataframe tbody tr th:only-of-type {\n",
       "        vertical-align: middle;\n",
       "    }\n",
       "\n",
       "    .dataframe tbody tr th {\n",
       "        vertical-align: top;\n",
       "    }\n",
       "\n",
       "    .dataframe thead th {\n",
       "        text-align: right;\n",
       "    }\n",
       "</style>\n",
       "<table border=\"1\" class=\"dataframe\">\n",
       "  <thead>\n",
       "    <tr style=\"text-align: right;\">\n",
       "      <th></th>\n",
       "      <th>index</th>\n",
       "      <th>device_id_0</th>\n",
       "      <th>user_id</th>\n",
       "      <th>device_id_2</th>\n",
       "      <th>ip</th>\n",
       "      <th>search_keyword</th>\n",
       "      <th>auction_id</th>\n",
       "      <th>shop_id</th>\n",
       "      <th>geohash6</th>\n",
       "      <th>geohash7</th>\n",
       "      <th>geohash8</th>\n",
       "      <th>reach_time</th>\n",
       "      <th>os</th>\n",
       "      <th>device_id_from_0</th>\n",
       "      <th>device_id</th>\n",
       "    </tr>\n",
       "  </thead>\n",
       "  <tbody>\n",
       "    <tr>\n",
       "      <th>0</th>\n",
       "      <td>00001088566af342b421f9d13a5f9d17</td>\n",
       "      <td>f63a7ac8a39bd8365fd3cbb3ca5d7ece</td>\n",
       "      <td>7ca92be942981d88c88cb2111ccaa283</td>\n",
       "      <td>NaN</td>\n",
       "      <td>63a3999f249475f530693d57bad83b8d.fb98177bac9c7...</td>\n",
       "      <td>3a0419f4545277349c54772eaf0eb9f3</td>\n",
       "      <td>NaN</td>\n",
       "      <td>a917325b9ec0eef767f2547517d51f27</td>\n",
       "      <td>NaN</td>\n",
       "      <td>NaN</td>\n",
       "      <td>NaN</td>\n",
       "      <td>20170503010056</td>\n",
       "      <td>Android</td>\n",
       "      <td>00001088566af342b421f9d13a5f9d17</td>\n",
       "      <td>00001088566af342b421f9d13a5f9d17</td>\n",
       "    </tr>\n",
       "    <tr>\n",
       "      <th>1</th>\n",
       "      <td>00001088566af342b421f9d13a5f9d17</td>\n",
       "      <td>f63a7ac8a39bd8365fd3cbb3ca5d7ece</td>\n",
       "      <td>7ca92be942981d88c88cb2111ccaa283</td>\n",
       "      <td>NaN</td>\n",
       "      <td>63a3999f249475f530693d57bad83b8d.fb98177bac9c7...</td>\n",
       "      <td>3a0419f4545277349c54772eaf0eb9f3</td>\n",
       "      <td>NaN</td>\n",
       "      <td>NaN</td>\n",
       "      <td>NaN</td>\n",
       "      <td>NaN</td>\n",
       "      <td>NaN</td>\n",
       "      <td>20170503010506</td>\n",
       "      <td>Android</td>\n",
       "      <td>00001088566af342b421f9d13a5f9d17</td>\n",
       "      <td>00001088566af342b421f9d13a5f9d17</td>\n",
       "    </tr>\n",
       "    <tr>\n",
       "      <th>2</th>\n",
       "      <td>00001088566af342b421f9d13a5f9d17</td>\n",
       "      <td>f63a7ac8a39bd8365fd3cbb3ca5d7ece</td>\n",
       "      <td>7ca92be942981d88c88cb2111ccaa283</td>\n",
       "      <td>NaN</td>\n",
       "      <td>63a3999f249475f530693d57bad83b8d.fb98177bac9c7...</td>\n",
       "      <td>05a2338992b14cad5a6fb558640a33e2 3b446e081b380...</td>\n",
       "      <td>NaN</td>\n",
       "      <td>NaN</td>\n",
       "      <td>NaN</td>\n",
       "      <td>NaN</td>\n",
       "      <td>NaN</td>\n",
       "      <td>20170503010717</td>\n",
       "      <td>Android</td>\n",
       "      <td>00001088566af342b421f9d13a5f9d17</td>\n",
       "      <td>00001088566af342b421f9d13a5f9d17</td>\n",
       "    </tr>\n",
       "    <tr>\n",
       "      <th>3</th>\n",
       "      <td>00001088566af342b421f9d13a5f9d17</td>\n",
       "      <td>f63a7ac8a39bd8365fd3cbb3ca5d7ece</td>\n",
       "      <td>7ca92be942981d88c88cb2111ccaa283</td>\n",
       "      <td>NaN</td>\n",
       "      <td>63a3999f249475f530693d57bad83b8d.fb98177bac9c7...</td>\n",
       "      <td>05a2338992b14cad5a6fb558640a33e2 15de2152867a1...</td>\n",
       "      <td>NaN</td>\n",
       "      <td>NaN</td>\n",
       "      <td>NaN</td>\n",
       "      <td>NaN</td>\n",
       "      <td>NaN</td>\n",
       "      <td>20170503011105</td>\n",
       "      <td>Android</td>\n",
       "      <td>00001088566af342b421f9d13a5f9d17</td>\n",
       "      <td>00001088566af342b421f9d13a5f9d17</td>\n",
       "    </tr>\n",
       "    <tr>\n",
       "      <th>4</th>\n",
       "      <td>00001088566af342b421f9d13a5f9d17</td>\n",
       "      <td>f63a7ac8a39bd8365fd3cbb3ca5d7ece</td>\n",
       "      <td>7ca92be942981d88c88cb2111ccaa283</td>\n",
       "      <td>NaN</td>\n",
       "      <td>63a3999f249475f530693d57bad83b8d.fb98177bac9c7...</td>\n",
       "      <td>05a2338992b14cad5a6fb558640a33e2 3b446e081b380...</td>\n",
       "      <td>8ab7b5701b923e1babad577e2cebc824</td>\n",
       "      <td>d3158d724850a3773931bb03fb06b797</td>\n",
       "      <td>NaN</td>\n",
       "      <td>NaN</td>\n",
       "      <td>NaN</td>\n",
       "      <td>20170503010611</td>\n",
       "      <td>Android</td>\n",
       "      <td>00001088566af342b421f9d13a5f9d17</td>\n",
       "      <td>00001088566af342b421f9d13a5f9d17</td>\n",
       "    </tr>\n",
       "  </tbody>\n",
       "</table>\n",
       "</div>"
      ],
      "text/plain": [
       "                              index                       device_id_0  \\\n",
       "0  00001088566af342b421f9d13a5f9d17  f63a7ac8a39bd8365fd3cbb3ca5d7ece   \n",
       "1  00001088566af342b421f9d13a5f9d17  f63a7ac8a39bd8365fd3cbb3ca5d7ece   \n",
       "2  00001088566af342b421f9d13a5f9d17  f63a7ac8a39bd8365fd3cbb3ca5d7ece   \n",
       "3  00001088566af342b421f9d13a5f9d17  f63a7ac8a39bd8365fd3cbb3ca5d7ece   \n",
       "4  00001088566af342b421f9d13a5f9d17  f63a7ac8a39bd8365fd3cbb3ca5d7ece   \n",
       "\n",
       "                            user_id device_id_2  \\\n",
       "0  7ca92be942981d88c88cb2111ccaa283         NaN   \n",
       "1  7ca92be942981d88c88cb2111ccaa283         NaN   \n",
       "2  7ca92be942981d88c88cb2111ccaa283         NaN   \n",
       "3  7ca92be942981d88c88cb2111ccaa283         NaN   \n",
       "4  7ca92be942981d88c88cb2111ccaa283         NaN   \n",
       "\n",
       "                                                  ip  \\\n",
       "0  63a3999f249475f530693d57bad83b8d.fb98177bac9c7...   \n",
       "1  63a3999f249475f530693d57bad83b8d.fb98177bac9c7...   \n",
       "2  63a3999f249475f530693d57bad83b8d.fb98177bac9c7...   \n",
       "3  63a3999f249475f530693d57bad83b8d.fb98177bac9c7...   \n",
       "4  63a3999f249475f530693d57bad83b8d.fb98177bac9c7...   \n",
       "\n",
       "                                      search_keyword  \\\n",
       "0                   3a0419f4545277349c54772eaf0eb9f3   \n",
       "1                   3a0419f4545277349c54772eaf0eb9f3   \n",
       "2  05a2338992b14cad5a6fb558640a33e2 3b446e081b380...   \n",
       "3  05a2338992b14cad5a6fb558640a33e2 15de2152867a1...   \n",
       "4  05a2338992b14cad5a6fb558640a33e2 3b446e081b380...   \n",
       "\n",
       "                         auction_id                           shop_id  \\\n",
       "0                               NaN  a917325b9ec0eef767f2547517d51f27   \n",
       "1                               NaN                               NaN   \n",
       "2                               NaN                               NaN   \n",
       "3                               NaN                               NaN   \n",
       "4  8ab7b5701b923e1babad577e2cebc824  d3158d724850a3773931bb03fb06b797   \n",
       "\n",
       "   geohash6  geohash7  geohash8      reach_time       os  \\\n",
       "0       NaN       NaN       NaN  20170503010056  Android   \n",
       "1       NaN       NaN       NaN  20170503010506  Android   \n",
       "2       NaN       NaN       NaN  20170503010717  Android   \n",
       "3       NaN       NaN       NaN  20170503011105  Android   \n",
       "4       NaN       NaN       NaN  20170503010611  Android   \n",
       "\n",
       "                   device_id_from_0                         device_id  \n",
       "0  00001088566af342b421f9d13a5f9d17  00001088566af342b421f9d13a5f9d17  \n",
       "1  00001088566af342b421f9d13a5f9d17  00001088566af342b421f9d13a5f9d17  \n",
       "2  00001088566af342b421f9d13a5f9d17  00001088566af342b421f9d13a5f9d17  \n",
       "3  00001088566af342b421f9d13a5f9d17  00001088566af342b421f9d13a5f9d17  \n",
       "4  00001088566af342b421f9d13a5f9d17  00001088566af342b421f9d13a5f9d17  "
      ]
     },
     "execution_count": 55,
     "metadata": {},
     "output_type": "execute_result"
    }
   ],
   "source": [
    "device_df_with_mapping.head()"
   ]
  },
  {
   "cell_type": "code",
   "execution_count": 56,
   "metadata": {},
   "outputs": [
    {
     "data": {
      "text/plain": [
       "Index(['index', 'device_id_0', 'user_id', 'device_id_2', 'ip',\n",
       "       'search_keyword', 'auction_id', 'shop_id', 'geohash6', 'geohash7',\n",
       "       'geohash8', 'reach_time', 'os', 'device_id_from_0', 'device_id'],\n",
       "      dtype='object')"
      ]
     },
     "execution_count": 56,
     "metadata": {},
     "output_type": "execute_result"
    }
   ],
   "source": [
    "device_df_with_mapping.columns"
   ]
  },
  {
   "cell_type": "code",
   "execution_count": 57,
   "metadata": {},
   "outputs": [],
   "source": [
    "device_df_with_mapping.columns=['device_id_1', 'device_id_0', 'user_id', 'device_id_2', 'ip',\n",
    "       'search_keyword', 'auction_id', 'shop_id', 'geohash6', 'geohash7',\n",
    "       'geohash8', 'reach_time', 'os', 'device_id_from_0', 'device_id_from_1']"
   ]
  },
  {
   "cell_type": "code",
   "execution_count": null,
   "metadata": {},
   "outputs": [],
   "source": []
  },
  {
   "cell_type": "code",
   "execution_count": 63,
   "metadata": {},
   "outputs": [],
   "source": [
    "device_df_with_mapping['device_id_from_0'].fillna(device_df_with_mapping['device_id_from_1'], inplace=True)"
   ]
  },
  {
   "cell_type": "code",
   "execution_count": null,
   "metadata": {},
   "outputs": [],
   "source": []
  },
  {
   "cell_type": "code",
   "execution_count": null,
   "metadata": {},
   "outputs": [],
   "source": []
  },
  {
   "cell_type": "code",
   "execution_count": 64,
   "metadata": {},
   "outputs": [
    {
     "name": "stdout",
     "output_type": "stream",
     "text": [
      "CPU times: user 1 s, sys: 12.1 ms, total: 1.02 s\n",
      "Wall time: 1.01 s\n"
     ]
    }
   ],
   "source": [
    "%%time\n",
    "device_id_0_is_null = device_df_with_mapping[pd.isnull(device_df_with_mapping['device_id_from_0'])]"
   ]
  },
  {
   "cell_type": "code",
   "execution_count": null,
   "metadata": {},
   "outputs": [],
   "source": []
  },
  {
   "cell_type": "code",
   "execution_count": 66,
   "metadata": {},
   "outputs": [],
   "source": [
    "device_df_with_mapping = device_df_with_mapping[pd.notnull(device_df_with_mapping['device_id_from_0'])]"
   ]
  },
  {
   "cell_type": "code",
   "execution_count": 67,
   "metadata": {},
   "outputs": [
    {
     "data": {
      "text/plain": [
       "29158141"
      ]
     },
     "execution_count": 67,
     "metadata": {},
     "output_type": "execute_result"
    }
   ],
   "source": [
    "len(device_df_with_mapping)"
   ]
  },
  {
   "cell_type": "code",
   "execution_count": 65,
   "metadata": {},
   "outputs": [
    {
     "data": {
      "text/plain": [
       "26"
      ]
     },
     "execution_count": 65,
     "metadata": {},
     "output_type": "execute_result"
    }
   ],
   "source": [
    "len(device_id_0_is_null)"
   ]
  },
  {
   "cell_type": "code",
   "execution_count": 68,
   "metadata": {},
   "outputs": [
    {
     "data": {
      "text/html": [
       "<div>\n",
       "<style scoped>\n",
       "    .dataframe tbody tr th:only-of-type {\n",
       "        vertical-align: middle;\n",
       "    }\n",
       "\n",
       "    .dataframe tbody tr th {\n",
       "        vertical-align: top;\n",
       "    }\n",
       "\n",
       "    .dataframe thead th {\n",
       "        text-align: right;\n",
       "    }\n",
       "</style>\n",
       "<table border=\"1\" class=\"dataframe\">\n",
       "  <thead>\n",
       "    <tr style=\"text-align: right;\">\n",
       "      <th></th>\n",
       "      <th>device_id_1</th>\n",
       "      <th>device_id_0</th>\n",
       "      <th>user_id</th>\n",
       "      <th>device_id_2</th>\n",
       "      <th>ip</th>\n",
       "      <th>search_keyword</th>\n",
       "      <th>auction_id</th>\n",
       "      <th>shop_id</th>\n",
       "      <th>geohash6</th>\n",
       "      <th>geohash7</th>\n",
       "      <th>geohash8</th>\n",
       "      <th>reach_time</th>\n",
       "      <th>os</th>\n",
       "      <th>device_id_from_0</th>\n",
       "      <th>device_id_from_1</th>\n",
       "    </tr>\n",
       "  </thead>\n",
       "  <tbody>\n",
       "    <tr>\n",
       "      <th>0</th>\n",
       "      <td>00001088566af342b421f9d13a5f9d17</td>\n",
       "      <td>f63a7ac8a39bd8365fd3cbb3ca5d7ece</td>\n",
       "      <td>7ca92be942981d88c88cb2111ccaa283</td>\n",
       "      <td>NaN</td>\n",
       "      <td>63a3999f249475f530693d57bad83b8d.fb98177bac9c7...</td>\n",
       "      <td>3a0419f4545277349c54772eaf0eb9f3</td>\n",
       "      <td>NaN</td>\n",
       "      <td>a917325b9ec0eef767f2547517d51f27</td>\n",
       "      <td>NaN</td>\n",
       "      <td>NaN</td>\n",
       "      <td>NaN</td>\n",
       "      <td>20170503010056</td>\n",
       "      <td>Android</td>\n",
       "      <td>00001088566af342b421f9d13a5f9d17</td>\n",
       "      <td>00001088566af342b421f9d13a5f9d17</td>\n",
       "    </tr>\n",
       "    <tr>\n",
       "      <th>1</th>\n",
       "      <td>00001088566af342b421f9d13a5f9d17</td>\n",
       "      <td>f63a7ac8a39bd8365fd3cbb3ca5d7ece</td>\n",
       "      <td>7ca92be942981d88c88cb2111ccaa283</td>\n",
       "      <td>NaN</td>\n",
       "      <td>63a3999f249475f530693d57bad83b8d.fb98177bac9c7...</td>\n",
       "      <td>3a0419f4545277349c54772eaf0eb9f3</td>\n",
       "      <td>NaN</td>\n",
       "      <td>NaN</td>\n",
       "      <td>NaN</td>\n",
       "      <td>NaN</td>\n",
       "      <td>NaN</td>\n",
       "      <td>20170503010506</td>\n",
       "      <td>Android</td>\n",
       "      <td>00001088566af342b421f9d13a5f9d17</td>\n",
       "      <td>00001088566af342b421f9d13a5f9d17</td>\n",
       "    </tr>\n",
       "    <tr>\n",
       "      <th>2</th>\n",
       "      <td>00001088566af342b421f9d13a5f9d17</td>\n",
       "      <td>f63a7ac8a39bd8365fd3cbb3ca5d7ece</td>\n",
       "      <td>7ca92be942981d88c88cb2111ccaa283</td>\n",
       "      <td>NaN</td>\n",
       "      <td>63a3999f249475f530693d57bad83b8d.fb98177bac9c7...</td>\n",
       "      <td>05a2338992b14cad5a6fb558640a33e2 3b446e081b380...</td>\n",
       "      <td>NaN</td>\n",
       "      <td>NaN</td>\n",
       "      <td>NaN</td>\n",
       "      <td>NaN</td>\n",
       "      <td>NaN</td>\n",
       "      <td>20170503010717</td>\n",
       "      <td>Android</td>\n",
       "      <td>00001088566af342b421f9d13a5f9d17</td>\n",
       "      <td>00001088566af342b421f9d13a5f9d17</td>\n",
       "    </tr>\n",
       "    <tr>\n",
       "      <th>3</th>\n",
       "      <td>00001088566af342b421f9d13a5f9d17</td>\n",
       "      <td>f63a7ac8a39bd8365fd3cbb3ca5d7ece</td>\n",
       "      <td>7ca92be942981d88c88cb2111ccaa283</td>\n",
       "      <td>NaN</td>\n",
       "      <td>63a3999f249475f530693d57bad83b8d.fb98177bac9c7...</td>\n",
       "      <td>05a2338992b14cad5a6fb558640a33e2 15de2152867a1...</td>\n",
       "      <td>NaN</td>\n",
       "      <td>NaN</td>\n",
       "      <td>NaN</td>\n",
       "      <td>NaN</td>\n",
       "      <td>NaN</td>\n",
       "      <td>20170503011105</td>\n",
       "      <td>Android</td>\n",
       "      <td>00001088566af342b421f9d13a5f9d17</td>\n",
       "      <td>00001088566af342b421f9d13a5f9d17</td>\n",
       "    </tr>\n",
       "    <tr>\n",
       "      <th>4</th>\n",
       "      <td>00001088566af342b421f9d13a5f9d17</td>\n",
       "      <td>f63a7ac8a39bd8365fd3cbb3ca5d7ece</td>\n",
       "      <td>7ca92be942981d88c88cb2111ccaa283</td>\n",
       "      <td>NaN</td>\n",
       "      <td>63a3999f249475f530693d57bad83b8d.fb98177bac9c7...</td>\n",
       "      <td>05a2338992b14cad5a6fb558640a33e2 3b446e081b380...</td>\n",
       "      <td>8ab7b5701b923e1babad577e2cebc824</td>\n",
       "      <td>d3158d724850a3773931bb03fb06b797</td>\n",
       "      <td>NaN</td>\n",
       "      <td>NaN</td>\n",
       "      <td>NaN</td>\n",
       "      <td>20170503010611</td>\n",
       "      <td>Android</td>\n",
       "      <td>00001088566af342b421f9d13a5f9d17</td>\n",
       "      <td>00001088566af342b421f9d13a5f9d17</td>\n",
       "    </tr>\n",
       "  </tbody>\n",
       "</table>\n",
       "</div>"
      ],
      "text/plain": [
       "                        device_id_1                       device_id_0  \\\n",
       "0  00001088566af342b421f9d13a5f9d17  f63a7ac8a39bd8365fd3cbb3ca5d7ece   \n",
       "1  00001088566af342b421f9d13a5f9d17  f63a7ac8a39bd8365fd3cbb3ca5d7ece   \n",
       "2  00001088566af342b421f9d13a5f9d17  f63a7ac8a39bd8365fd3cbb3ca5d7ece   \n",
       "3  00001088566af342b421f9d13a5f9d17  f63a7ac8a39bd8365fd3cbb3ca5d7ece   \n",
       "4  00001088566af342b421f9d13a5f9d17  f63a7ac8a39bd8365fd3cbb3ca5d7ece   \n",
       "\n",
       "                            user_id device_id_2  \\\n",
       "0  7ca92be942981d88c88cb2111ccaa283         NaN   \n",
       "1  7ca92be942981d88c88cb2111ccaa283         NaN   \n",
       "2  7ca92be942981d88c88cb2111ccaa283         NaN   \n",
       "3  7ca92be942981d88c88cb2111ccaa283         NaN   \n",
       "4  7ca92be942981d88c88cb2111ccaa283         NaN   \n",
       "\n",
       "                                                  ip  \\\n",
       "0  63a3999f249475f530693d57bad83b8d.fb98177bac9c7...   \n",
       "1  63a3999f249475f530693d57bad83b8d.fb98177bac9c7...   \n",
       "2  63a3999f249475f530693d57bad83b8d.fb98177bac9c7...   \n",
       "3  63a3999f249475f530693d57bad83b8d.fb98177bac9c7...   \n",
       "4  63a3999f249475f530693d57bad83b8d.fb98177bac9c7...   \n",
       "\n",
       "                                      search_keyword  \\\n",
       "0                   3a0419f4545277349c54772eaf0eb9f3   \n",
       "1                   3a0419f4545277349c54772eaf0eb9f3   \n",
       "2  05a2338992b14cad5a6fb558640a33e2 3b446e081b380...   \n",
       "3  05a2338992b14cad5a6fb558640a33e2 15de2152867a1...   \n",
       "4  05a2338992b14cad5a6fb558640a33e2 3b446e081b380...   \n",
       "\n",
       "                         auction_id                           shop_id  \\\n",
       "0                               NaN  a917325b9ec0eef767f2547517d51f27   \n",
       "1                               NaN                               NaN   \n",
       "2                               NaN                               NaN   \n",
       "3                               NaN                               NaN   \n",
       "4  8ab7b5701b923e1babad577e2cebc824  d3158d724850a3773931bb03fb06b797   \n",
       "\n",
       "   geohash6  geohash7  geohash8      reach_time       os  \\\n",
       "0       NaN       NaN       NaN  20170503010056  Android   \n",
       "1       NaN       NaN       NaN  20170503010506  Android   \n",
       "2       NaN       NaN       NaN  20170503010717  Android   \n",
       "3       NaN       NaN       NaN  20170503011105  Android   \n",
       "4       NaN       NaN       NaN  20170503010611  Android   \n",
       "\n",
       "                   device_id_from_0                  device_id_from_1  \n",
       "0  00001088566af342b421f9d13a5f9d17  00001088566af342b421f9d13a5f9d17  \n",
       "1  00001088566af342b421f9d13a5f9d17  00001088566af342b421f9d13a5f9d17  \n",
       "2  00001088566af342b421f9d13a5f9d17  00001088566af342b421f9d13a5f9d17  \n",
       "3  00001088566af342b421f9d13a5f9d17  00001088566af342b421f9d13a5f9d17  \n",
       "4  00001088566af342b421f9d13a5f9d17  00001088566af342b421f9d13a5f9d17  "
      ]
     },
     "execution_count": 68,
     "metadata": {},
     "output_type": "execute_result"
    }
   ],
   "source": [
    "device_df_with_mapping.head()"
   ]
  },
  {
   "cell_type": "code",
   "execution_count": 69,
   "metadata": {},
   "outputs": [
    {
     "data": {
      "text/plain": [
       "Index(['device_id_1', 'device_id_0', 'user_id', 'device_id_2', 'ip',\n",
       "       'search_keyword', 'auction_id', 'shop_id', 'geohash6', 'geohash7',\n",
       "       'geohash8', 'reach_time', 'os', 'device_id_from_0', 'device_id_from_1'],\n",
       "      dtype='object')"
      ]
     },
     "execution_count": 69,
     "metadata": {},
     "output_type": "execute_result"
    }
   ],
   "source": [
    "device_df_with_mapping.columns"
   ]
  },
  {
   "cell_type": "code",
   "execution_count": 70,
   "metadata": {},
   "outputs": [],
   "source": [
    "device_df_with_mapping.columns = ['device_id_1', 'device_id_0', 'user_id', 'device_id_2', 'ip',\n",
    "       'search_keyword', 'auction_id', 'shop_id', 'geohash6', 'geohash7',\n",
    "       'geohash8', 'reach_time', 'os', 'union_device_id', 'device_id_from_1']"
   ]
  },
  {
   "cell_type": "code",
   "execution_count": 71,
   "metadata": {},
   "outputs": [],
   "source": [
    "device_df_with_mapping.to_csv('../alidata/data/ijcai_device_encode_training_union_id.csv', header=True, index=False)"
   ]
  },
  {
   "cell_type": "code",
   "execution_count": null,
   "metadata": {},
   "outputs": [],
   "source": []
  },
  {
   "cell_type": "code",
   "execution_count": 254,
   "metadata": {},
   "outputs": [],
   "source": [
    "def count_with_time(target_df, key_name, target_column_name, time_column_name, length=8):\n",
    "    traget_count_df = target_df[[key_name, target_column_name, time_column_name]].copy()\n",
    "    traget_count_df['reach_time_day'] = traget_count_df[time_column_name].map(lambda x:x[0:length])\n",
    "    traget_count_df['target_with_time'] = traget_count_df[target_column_name] + '_' + traget_count_df['reach_time_day']\n",
    "    \n",
    "    target_count_with_time_df = traget_count_df[[key_name, target_column_name, 'target_with_time']].\\\n",
    "                                drop_duplicates(subset=[key_name, target_column_name])\n",
    "    \n",
    "    target_count_with_time_gb = target_count_with_time_df.groupby([key_name, target_column_name]).count()\n",
    "    \n",
    "    target_count_with_time_gb.reset_index(inplace=True)\n",
    "    \n",
    "    return target_count_with_time_gb\n",
    "    \n",
    "    "
   ]
  },
  {
   "cell_type": "code",
   "execution_count": 265,
   "metadata": {},
   "outputs": [],
   "source": [
    "def count_with_split(target_df, key_name, target_column_name, drop_duplicates=True):\n",
    "    \n",
    "    if (drop_duplicates):\n",
    "        traget_count_df = target_df[[key_name, target_column_name]].drop_duplicates(subset=[key_name, target_column_name])\n",
    "    else:\n",
    "        traget_count_df = target_df[[key_name, target_column_name]]\n",
    "        \n",
    "    target_split = traget_count_df[target_column_name].str.split(' ', expand=True)\n",
    "    target_split = target_split.stack()\n",
    "    target_split = target_split.reset_index(level=1, drop=True)\n",
    "    target_split = target_split.rename('target_split')        \n",
    "    \n",
    "    target_count_df_join = traget_count_df.join(target_split)\n",
    "    \n",
    "    target_count_df_join.drop([target_column_name], axis=1, inplace=True)\n",
    "    \n",
    "    target_count_df_join.reset_index(inplace=True)\n",
    "    target_count_df_join['value'] = 1\n",
    "    target_count_gb = target_count_df_join.groupby([key_name, 'target_split']).count()\n",
    "    target_count_gb.reset_index(inplace=True)\n",
    "    \n",
    "    return target_count_gb\n"
   ]
  },
  {
   "cell_type": "code",
   "execution_count": 258,
   "metadata": {},
   "outputs": [],
   "source": [
    "def count_column(target_df, key_name, target_column_name):\n",
    "\n",
    "    target_count_df = target_df[[key_name, target_column_name]].copy()\n",
    "    target_count_df = target_count_df[pd.notnull(target_count_df[target_column_name])]\n",
    "    target_count_df['value'] = 1\n",
    "    target_count_gb = target_count_df.groupby([key_name, target_column_name]).count()\n",
    "    target_count_gb.reset_index(inplace=True)\n",
    "    \n",
    "    return target_count_gb\n"
   ]
  },
  {
   "cell_type": "code",
   "execution_count": 259,
   "metadata": {},
   "outputs": [
    {
     "data": {
      "text/html": [
       "<div>\n",
       "<style scoped>\n",
       "    .dataframe tbody tr th:only-of-type {\n",
       "        vertical-align: middle;\n",
       "    }\n",
       "\n",
       "    .dataframe tbody tr th {\n",
       "        vertical-align: top;\n",
       "    }\n",
       "\n",
       "    .dataframe thead th {\n",
       "        text-align: right;\n",
       "    }\n",
       "</style>\n",
       "<table border=\"1\" class=\"dataframe\">\n",
       "  <thead>\n",
       "    <tr style=\"text-align: right;\">\n",
       "      <th></th>\n",
       "      <th>user_id</th>\n",
       "      <th>data_time</th>\n",
       "      <th>cookieid</th>\n",
       "      <th>url</th>\n",
       "      <th>url_domain1</th>\n",
       "      <th>url_domain2</th>\n",
       "      <th>search_keyword</th>\n",
       "      <th>auction_id</th>\n",
       "      <th>shop_id</th>\n",
       "      <th>ip</th>\n",
       "      <th>title</th>\n",
       "    </tr>\n",
       "  </thead>\n",
       "  <tbody>\n",
       "    <tr>\n",
       "      <th>0</th>\n",
       "      <td>002724ba2ed196b37d62ea478a139b8d</td>\n",
       "      <td>20170507111217</td>\n",
       "      <td>ea96698e0ac16cc5aaba9fb0b2c8f34e</td>\n",
       "      <td>5b16ed3fe6456f7d73f9ded59ab6bcb0/c28bf7bee965d...</td>\n",
       "      <td>3e717b288d611cf2f5dc6dd94c59e8ea</td>\n",
       "      <td>415b5e22510385dc83143d314005632a</td>\n",
       "      <td>NaN</td>\n",
       "      <td>NaN</td>\n",
       "      <td>NaN</td>\n",
       "      <td>d41ea1af79f76adeb7764b3fd63fc68d.0ec04218402b4...</td>\n",
       "      <td>ebbdbaeaa341bb8e7a7114ecf8e09772 9058079915a01...</td>\n",
       "    </tr>\n",
       "    <tr>\n",
       "      <th>1</th>\n",
       "      <td>002724ba2ed196b37d62ea478a139b8d</td>\n",
       "      <td>20170507234802</td>\n",
       "      <td>ea96698e0ac16cc5aaba9fb0b2c8f34e</td>\n",
       "      <td>5b16ed3fe6456f7d73f9ded59ab6bcb0/c28bf7bee965d...</td>\n",
       "      <td>3e717b288d611cf2f5dc6dd94c59e8ea</td>\n",
       "      <td>415b5e22510385dc83143d314005632a</td>\n",
       "      <td>NaN</td>\n",
       "      <td>NaN</td>\n",
       "      <td>NaN</td>\n",
       "      <td>63a3999f249475f530693d57bad83b8d.bd00614e2a194...</td>\n",
       "      <td>ebbdbaeaa341bb8e7a7114ecf8e09772 9058079915a01...</td>\n",
       "    </tr>\n",
       "    <tr>\n",
       "      <th>2</th>\n",
       "      <td>002724ba2ed196b37d62ea478a139b8d</td>\n",
       "      <td>20170507123950</td>\n",
       "      <td>ea96698e0ac16cc5aaba9fb0b2c8f34e</td>\n",
       "      <td>5b16ed3fe6456f7d73f9ded59ab6bcb0/c28bf7bee965d...</td>\n",
       "      <td>3e717b288d611cf2f5dc6dd94c59e8ea</td>\n",
       "      <td>415b5e22510385dc83143d314005632a</td>\n",
       "      <td>NaN</td>\n",
       "      <td>NaN</td>\n",
       "      <td>NaN</td>\n",
       "      <td>63a3999f249475f530693d57bad83b8d.bd00614e2a194...</td>\n",
       "      <td>ebbdbaeaa341bb8e7a7114ecf8e09772 9058079915a01...</td>\n",
       "    </tr>\n",
       "    <tr>\n",
       "      <th>3</th>\n",
       "      <td>002724ba2ed196b37d62ea478a139b8d</td>\n",
       "      <td>20170507111418</td>\n",
       "      <td>ea96698e0ac16cc5aaba9fb0b2c8f34e</td>\n",
       "      <td>f9601526cbe74adb91394bf363f49fbb/c28bf7bee965d...</td>\n",
       "      <td>3e717b288d611cf2f5dc6dd94c59e8ea</td>\n",
       "      <td>a01662de147eeee349d62a5c25cf999b</td>\n",
       "      <td>NaN</td>\n",
       "      <td>NaN</td>\n",
       "      <td>NaN</td>\n",
       "      <td>d41ea1af79f76adeb7764b3fd63fc68d.0ec04218402b4...</td>\n",
       "      <td>5a2b982eb589374e8b1e70a5045fc0de cd3ecb69d0756...</td>\n",
       "    </tr>\n",
       "    <tr>\n",
       "      <th>4</th>\n",
       "      <td>002724ba2ed196b37d62ea478a139b8d</td>\n",
       "      <td>20170507111304</td>\n",
       "      <td>ea96698e0ac16cc5aaba9fb0b2c8f34e</td>\n",
       "      <td>94b50e99f4739068f9c732eafd8739e8/c28bf7bee965d...</td>\n",
       "      <td>3e717b288d611cf2f5dc6dd94c59e8ea</td>\n",
       "      <td>786cef0c6a9de12b11ef0366986d1974</td>\n",
       "      <td>NaN</td>\n",
       "      <td>NaN</td>\n",
       "      <td>NaN</td>\n",
       "      <td>d41ea1af79f76adeb7764b3fd63fc68d.0ec04218402b4...</td>\n",
       "      <td>2b4189224280ea828cca9435c5231db0 3cf8a8d74f215...</td>\n",
       "    </tr>\n",
       "  </tbody>\n",
       "</table>\n",
       "</div>"
      ],
      "text/plain": [
       "                            user_id       data_time  \\\n",
       "0  002724ba2ed196b37d62ea478a139b8d  20170507111217   \n",
       "1  002724ba2ed196b37d62ea478a139b8d  20170507234802   \n",
       "2  002724ba2ed196b37d62ea478a139b8d  20170507123950   \n",
       "3  002724ba2ed196b37d62ea478a139b8d  20170507111418   \n",
       "4  002724ba2ed196b37d62ea478a139b8d  20170507111304   \n",
       "\n",
       "                           cookieid  \\\n",
       "0  ea96698e0ac16cc5aaba9fb0b2c8f34e   \n",
       "1  ea96698e0ac16cc5aaba9fb0b2c8f34e   \n",
       "2  ea96698e0ac16cc5aaba9fb0b2c8f34e   \n",
       "3  ea96698e0ac16cc5aaba9fb0b2c8f34e   \n",
       "4  ea96698e0ac16cc5aaba9fb0b2c8f34e   \n",
       "\n",
       "                                                 url  \\\n",
       "0  5b16ed3fe6456f7d73f9ded59ab6bcb0/c28bf7bee965d...   \n",
       "1  5b16ed3fe6456f7d73f9ded59ab6bcb0/c28bf7bee965d...   \n",
       "2  5b16ed3fe6456f7d73f9ded59ab6bcb0/c28bf7bee965d...   \n",
       "3  f9601526cbe74adb91394bf363f49fbb/c28bf7bee965d...   \n",
       "4  94b50e99f4739068f9c732eafd8739e8/c28bf7bee965d...   \n",
       "\n",
       "                        url_domain1                       url_domain2  \\\n",
       "0  3e717b288d611cf2f5dc6dd94c59e8ea  415b5e22510385dc83143d314005632a   \n",
       "1  3e717b288d611cf2f5dc6dd94c59e8ea  415b5e22510385dc83143d314005632a   \n",
       "2  3e717b288d611cf2f5dc6dd94c59e8ea  415b5e22510385dc83143d314005632a   \n",
       "3  3e717b288d611cf2f5dc6dd94c59e8ea  a01662de147eeee349d62a5c25cf999b   \n",
       "4  3e717b288d611cf2f5dc6dd94c59e8ea  786cef0c6a9de12b11ef0366986d1974   \n",
       "\n",
       "  search_keyword auction_id shop_id  \\\n",
       "0            NaN        NaN     NaN   \n",
       "1            NaN        NaN     NaN   \n",
       "2            NaN        NaN     NaN   \n",
       "3            NaN        NaN     NaN   \n",
       "4            NaN        NaN     NaN   \n",
       "\n",
       "                                                  ip  \\\n",
       "0  d41ea1af79f76adeb7764b3fd63fc68d.0ec04218402b4...   \n",
       "1  63a3999f249475f530693d57bad83b8d.bd00614e2a194...   \n",
       "2  63a3999f249475f530693d57bad83b8d.bd00614e2a194...   \n",
       "3  d41ea1af79f76adeb7764b3fd63fc68d.0ec04218402b4...   \n",
       "4  d41ea1af79f76adeb7764b3fd63fc68d.0ec04218402b4...   \n",
       "\n",
       "                                               title  \n",
       "0  ebbdbaeaa341bb8e7a7114ecf8e09772 9058079915a01...  \n",
       "1  ebbdbaeaa341bb8e7a7114ecf8e09772 9058079915a01...  \n",
       "2  ebbdbaeaa341bb8e7a7114ecf8e09772 9058079915a01...  \n",
       "3  5a2b982eb589374e8b1e70a5045fc0de cd3ecb69d0756...  \n",
       "4  2b4189224280ea828cca9435c5231db0 3cf8a8d74f215...  "
      ]
     },
     "execution_count": 259,
     "metadata": {},
     "output_type": "execute_result"
    }
   ],
   "source": [
    "cookie_df.head()"
   ]
  },
  {
   "cell_type": "code",
   "execution_count": 255,
   "metadata": {},
   "outputs": [
    {
     "name": "stdout",
     "output_type": "stream",
     "text": [
      "CPU times: user 19.1 s, sys: 4.92 s, total: 24 s\n",
      "Wall time: 24 s\n"
     ]
    }
   ],
   "source": [
    "%%time\n",
    "cookie_ip_count_result_df = count_with_time(cookie_df, 'cookieid', 'ip', 'data_time', 8)"
   ]
  },
  {
   "cell_type": "code",
   "execution_count": 260,
   "metadata": {},
   "outputs": [],
   "source": [
    "%%time\n",
    "cookie_auction_count_result_df = count_column(cookie_df, 'cookieid', 'auction_id')"
   ]
  },
  {
   "cell_type": "code",
   "execution_count": 261,
   "metadata": {},
   "outputs": [
    {
     "name": "stdout",
     "output_type": "stream",
     "text": [
      "CPU times: user 3.53 s, sys: 412 ms, total: 3.94 s\n",
      "Wall time: 3.94 s\n"
     ]
    }
   ],
   "source": [
    "%%time\n",
    "cookie_shop_count_result_df = count_column(cookie_df, 'cookieid', 'shop_id')"
   ]
  },
  {
   "cell_type": "code",
   "execution_count": 266,
   "metadata": {},
   "outputs": [
    {
     "name": "stdout",
     "output_type": "stream",
     "text": [
      "CPU times: user 1min 40s, sys: 4.89 s, total: 1min 45s\n",
      "Wall time: 1min 45s\n"
     ]
    }
   ],
   "source": [
    "%%time\n",
    "cookie_keyword_count_result_df = count_with_split(cookie_df, 'cookieid', 'search_keyword')"
   ]
  },
  {
   "cell_type": "code",
   "execution_count": 271,
   "metadata": {},
   "outputs": [
    {
     "name": "stdout",
     "output_type": "stream",
     "text": [
      "CPU times: user 14.6 s, sys: 452 ms, total: 15 s\n",
      "Wall time: 15 s\n"
     ]
    }
   ],
   "source": [
    "%%time\n",
    "cookie_ip_count_result_df.to_csv('../alidata/data/sparse_prepare_cookie_ip_count.csv', header=True, index=False)\n",
    "cookie_auction_count_result_df.to_csv('../alidata/data/sparse_prepare_cookie_auction_count.csv', header=True, index=False)\n",
    "cookie_shop_count_result_df.to_csv('../alidata/data/sparse_prepare_cookie_shop_count.csv', header=True, index=False)\n",
    "cookie_keyword_count_result_df.to_csv('../alidata/data/sparse_prepare_cookie_keyword_count.csv', header=True, index=False)\n"
   ]
  },
  {
   "cell_type": "code",
   "execution_count": null,
   "metadata": {},
   "outputs": [],
   "source": []
  },
  {
   "cell_type": "code",
   "execution_count": 276,
   "metadata": {},
   "outputs": [],
   "source": [
    "# device_df_with_mapping.head()"
   ]
  },
  {
   "cell_type": "code",
   "execution_count": null,
   "metadata": {},
   "outputs": [],
   "source": []
  },
  {
   "cell_type": "code",
   "execution_count": 274,
   "metadata": {},
   "outputs": [
    {
     "name": "stdout",
     "output_type": "stream",
     "text": [
      "CPU times: user 3min 18s, sys: 19.4 s, total: 3min 37s\n",
      "Wall time: 3min 37s\n"
     ]
    }
   ],
   "source": [
    "%%time\n",
    "\n",
    "device_ip_count_result_df = count_with_time(device_df_with_mapping, 'union_device_id', 'ip', 'reach_time', 8)\n",
    "device_auction_count_result_df = count_column(device_df_with_mapping, 'union_device_id', 'auction_id')\n",
    "device_shop_count_result_df = count_column(device_df_with_mapping, 'union_device_id', 'shop_id')\n",
    "device_keyword_count_result_df = count_with_split(device_df_with_mapping, 'union_device_id', 'search_keyword')\n"
   ]
  },
  {
   "cell_type": "code",
   "execution_count": 275,
   "metadata": {},
   "outputs": [
    {
     "name": "stdout",
     "output_type": "stream",
     "text": [
      "CPU times: user 44 s, sys: 1.7 s, total: 45.7 s\n",
      "Wall time: 48 s\n"
     ]
    }
   ],
   "source": [
    "%%time\n",
    "device_ip_count_result_df.to_csv('../alidata/data/sparse_prepare_device_ip_count.csv', header=True, index=False)\n",
    "device_keyword_count_result_df.to_csv('../alidata/data/sparse_prepare_device_keyword_count.csv', header=True, index=False)\n",
    "device_auction_count_result_df.to_csv('../alidata/data/sparse_prepare_device_auction_count.csv', header=True, index=False)\n",
    "device_shop_count_result_df.to_csv('../alidata/data/sparse_prepare_device_shop_count.csv', header=True, index=False)\n",
    "\n"
   ]
  },
  {
   "cell_type": "code",
   "execution_count": null,
   "metadata": {},
   "outputs": [],
   "source": []
  },
  {
   "cell_type": "code",
   "execution_count": 214,
   "metadata": {},
   "outputs": [],
   "source": [
    "def prepare_for_sparse(target_df, key_name, column1_name, column2_name):\n",
    "    target_df['accumulate'] = target_df[column1_name] + '_' + target_df[column2_name].astype('str')\n",
    "    target_gb_to_one = target_df[[key_name,'accumulate']].groupby(key_name)['accumulate'].apply(list)\n",
    "    \n",
    "    key_list = list()\n",
    "    count_list = list()\n",
    "\n",
    "    for k,v in target_gb_to_one.items():\n",
    "        key_list.append(k)\n",
    "\n",
    "        count_dict = dict()\n",
    "\n",
    "        for count_value in v:\n",
    "            count_value_split = count_value.split('_')\n",
    "            count_dict[count_value_split[0]] = int(count_value_split[1])\n",
    "\n",
    "        count_list.append(count_dict)\n",
    "        \n",
    "    return (key_list, count_list)"
   ]
  },
  {
   "cell_type": "code",
   "execution_count": null,
   "metadata": {},
   "outputs": [],
   "source": []
  },
  {
   "cell_type": "code",
   "execution_count": null,
   "metadata": {},
   "outputs": [],
   "source": [
    "%%time\n",
    "key_list, dict_list = prepare_for_sparse(device_keyword_count_gb, 'union_device_id', 'keyword_split', 'value')\n"
   ]
  },
  {
   "cell_type": "code",
   "execution_count": null,
   "metadata": {},
   "outputs": [],
   "source": [
    "key_list, dict_list = prepare_for_sparse(device_auction_count_gb, 'union_device_id', 'auction_id', 'value')"
   ]
  },
  {
   "cell_type": "code",
   "execution_count": null,
   "metadata": {},
   "outputs": [],
   "source": [
    "key_list, dict_list = prepare_for_sparse(device_shop_count_gb, 'union_device_id', 'shop_id', 'value')"
   ]
  },
  {
   "cell_type": "code",
   "execution_count": null,
   "metadata": {},
   "outputs": [],
   "source": []
  },
  {
   "cell_type": "code",
   "execution_count": null,
   "metadata": {},
   "outputs": [],
   "source": []
  },
  {
   "cell_type": "code",
   "execution_count": null,
   "metadata": {},
   "outputs": [],
   "source": []
  },
  {
   "cell_type": "code",
   "execution_count": 155,
   "metadata": {
    "scrolled": true
   },
   "outputs": [
    {
     "data": {
      "text/plain": [
       "dict_keys(['3593efe532ee076e931de631dca691ec.bd6dfa9ddb96fa517ca10fe0997f3ba4.f3abe6490c42d5ca723536cd173e2dbe.59baa454ecc992a7a3e386ab3083c9da', '95e0c389596951470a30b04ea2f3cdc3.dd8610a3bd76a96a2178cc9cbe0ec016.507a3d4a364ceb54346b7bc0592becc0.32f5c369ba5da48f5f93ebbb7b0ba53d'])"
      ]
     },
     "execution_count": 155,
     "metadata": {},
     "output_type": "execute_result"
    }
   ],
   "source": [
    "device_ip_day_count_list[1].keys()"
   ]
  },
  {
   "cell_type": "code",
   "execution_count": 156,
   "metadata": {},
   "outputs": [],
   "source": [
    "for testing_key in device_ip_day_count_list[1].keys():\n",
    "    device_ip_day_count_list[0][testing_key] = 2"
   ]
  },
  {
   "cell_type": "code",
   "execution_count": null,
   "metadata": {},
   "outputs": [],
   "source": []
  },
  {
   "cell_type": "code",
   "execution_count": null,
   "metadata": {},
   "outputs": [],
   "source": []
  },
  {
   "cell_type": "code",
   "execution_count": 160,
   "metadata": {},
   "outputs": [],
   "source": [
    "dict_vectorizer = DictVectorizer(sparse=True)\n",
    "\n",
    "device_ip_day_features = dict_vectorizer.fit_transform(device_ip_day_count_list)"
   ]
  },
  {
   "cell_type": "code",
   "execution_count": 161,
   "metadata": {},
   "outputs": [
    {
     "data": {
      "text/plain": [
       "<1x427735 sparse matrix of type '<class 'numpy.float64'>'\n",
       "\twith 8 stored elements in Compressed Sparse Row format>"
      ]
     },
     "execution_count": 161,
     "metadata": {},
     "output_type": "execute_result"
    }
   ],
   "source": [
    "device_ip_day_features[0]"
   ]
  },
  {
   "cell_type": "code",
   "execution_count": 162,
   "metadata": {},
   "outputs": [],
   "source": [
    "feature_names = dict_vectorizer.get_feature_names()"
   ]
  },
  {
   "cell_type": "code",
   "execution_count": 163,
   "metadata": {},
   "outputs": [
    {
     "data": {
      "text/plain": [
       "427735"
      ]
     },
     "execution_count": 163,
     "metadata": {},
     "output_type": "execute_result"
    }
   ],
   "source": [
    "len(feature_names)"
   ]
  },
  {
   "cell_type": "code",
   "execution_count": 145,
   "metadata": {},
   "outputs": [
    {
     "data": {
      "text/plain": [
       "<1x427735 sparse matrix of type '<class 'numpy.float64'>'\n",
       "\twith 2 stored elements in Compressed Sparse Row format>"
      ]
     },
     "execution_count": 145,
     "metadata": {},
     "output_type": "execute_result"
    }
   ],
   "source": [
    "device_ip_day_features.getrow(1)"
   ]
  },
  {
   "cell_type": "code",
   "execution_count": 149,
   "metadata": {},
   "outputs": [
    {
     "data": {
      "text/plain": [
       "array([[1., 0., 0.],\n",
       "       [0., 1., 0.],\n",
       "       [0., 0., 1.]])"
      ]
     },
     "execution_count": 149,
     "metadata": {},
     "output_type": "execute_result"
    }
   ],
   "source": [
    "cosine_similarity(device_ip_day_features[0:3])"
   ]
  },
  {
   "cell_type": "code",
   "execution_count": 94,
   "metadata": {},
   "outputs": [
    {
     "data": {
      "text/plain": [
       "1171116"
      ]
     },
     "execution_count": 94,
     "metadata": {},
     "output_type": "execute_result"
    }
   ],
   "source": [
    "len(device_ip_day_count_gb)"
   ]
  },
  {
   "cell_type": "code",
   "execution_count": 166,
   "metadata": {},
   "outputs": [],
   "source": [
    "first_pare = vstack([device_ip_day_features.getrow(0), device_ip_day_features.getrow(1)])"
   ]
  },
  {
   "cell_type": "code",
   "execution_count": 167,
   "metadata": {},
   "outputs": [
    {
     "data": {
      "text/plain": [
       "array([[1.        , 0.65079137],\n",
       "       [0.65079137, 1.        ]])"
      ]
     },
     "execution_count": 167,
     "metadata": {},
     "output_type": "execute_result"
    }
   ],
   "source": [
    "cosine_similarity(first_pare)"
   ]
  },
  {
   "cell_type": "code",
   "execution_count": null,
   "metadata": {},
   "outputs": [],
   "source": []
  },
  {
   "cell_type": "code",
   "execution_count": null,
   "metadata": {},
   "outputs": [],
   "source": []
  },
  {
   "cell_type": "markdown",
   "metadata": {},
   "source": [
    "### label pare generating"
   ]
  },
  {
   "cell_type": "code",
   "execution_count": 10,
   "metadata": {},
   "outputs": [],
   "source": [
    "device_df.reset_index(inplace=True)\n",
    "cookie_df.reset_index(inplace=True)\n"
   ]
  },
  {
   "cell_type": "code",
   "execution_count": 11,
   "metadata": {},
   "outputs": [],
   "source": [
    "def device_cookie_mapping(device_df, cookie_df, mapping_column_name):\n",
    "\n",
    "    device_id_0_with_target_df = device_df[[mapping_column_name, 'device_id_0']].drop_duplicates(subset=[mapping_column_name, 'device_id_0'])\n",
    "    device_id_1_with_target_df = device_df[[mapping_column_name, 'device_id_1']].drop_duplicates(subset=[mapping_column_name, 'device_id_1'])\n",
    "\n",
    "    device_id_0_with_target_df.columns=[mapping_column_name, 'device_id']\n",
    "    device_id_1_with_target_df.columns=[mapping_column_name, 'device_id']\n",
    "\n",
    "    device_id_with_target_df = pd.concat([device_id_0_with_target_df, device_id_1_with_target_df])\n",
    "\n",
    "    device_id_with_target_df = device_id_with_target_df.drop_duplicates(subset=[mapping_column_name, 'device_id'])\n",
    "\n",
    "    cookieid_with_target_df = cookie_df[[mapping_column_name, 'cookieid']].drop_duplicates(subset=[mapping_column_name, 'cookieid'])\n",
    "\n",
    "\n",
    "    device_id_with_target_df.set_index(mapping_column_name, inplace=True)\n",
    "    cookieid_with_target_df.set_index(mapping_column_name, inplace=True)\n",
    "\n",
    "    device_cookie_target_df = device_id_with_target_df.join(cookieid_with_target_df, how='inner')\n",
    "\n",
    "    device_cookie_target_df.reset_index(inplace=True)\n",
    "    \n",
    "    return device_cookie_target_df\n"
   ]
  },
  {
   "cell_type": "code",
   "execution_count": 12,
   "metadata": {},
   "outputs": [
    {
     "name": "stdout",
     "output_type": "stream",
     "text": [
      "CPU times: user 12.4 s, sys: 1.87 s, total: 14.2 s\n",
      "Wall time: 14.2 s\n"
     ]
    }
   ],
   "source": [
    "%%time\n",
    "device_cookie_user_df = device_cookie_mapping(device_df, cookie_df, 'user_id')"
   ]
  },
  {
   "cell_type": "code",
   "execution_count": 13,
   "metadata": {},
   "outputs": [
    {
     "data": {
      "text/plain": [
       "1484071"
      ]
     },
     "execution_count": 13,
     "metadata": {},
     "output_type": "execute_result"
    }
   ],
   "source": [
    "len(device_cookie_user_df)"
   ]
  },
  {
   "cell_type": "code",
   "execution_count": 14,
   "metadata": {},
   "outputs": [
    {
     "name": "stdout",
     "output_type": "stream",
     "text": [
      "CPU times: user 42.2 s, sys: 9.2 s, total: 51.4 s\n",
      "Wall time: 51.4 s\n"
     ]
    }
   ],
   "source": [
    "%%time\n",
    "device_cookie_ip_df = device_cookie_mapping(device_df, cookie_df, 'ip')"
   ]
  },
  {
   "cell_type": "code",
   "execution_count": 15,
   "metadata": {},
   "outputs": [
    {
     "data": {
      "text/plain": [
       "182341289"
      ]
     },
     "execution_count": 15,
     "metadata": {},
     "output_type": "execute_result"
    }
   ],
   "source": [
    "len(device_cookie_ip_df)"
   ]
  },
  {
   "cell_type": "code",
   "execution_count": 16,
   "metadata": {},
   "outputs": [
    {
     "data": {
      "text/html": [
       "<div>\n",
       "<style scoped>\n",
       "    .dataframe tbody tr th:only-of-type {\n",
       "        vertical-align: middle;\n",
       "    }\n",
       "\n",
       "    .dataframe tbody tr th {\n",
       "        vertical-align: top;\n",
       "    }\n",
       "\n",
       "    .dataframe thead th {\n",
       "        text-align: right;\n",
       "    }\n",
       "</style>\n",
       "<table border=\"1\" class=\"dataframe\">\n",
       "  <thead>\n",
       "    <tr style=\"text-align: right;\">\n",
       "      <th></th>\n",
       "      <th>ip</th>\n",
       "      <th>device_id</th>\n",
       "      <th>cookieid</th>\n",
       "    </tr>\n",
       "  </thead>\n",
       "  <tbody>\n",
       "    <tr>\n",
       "      <th>0</th>\n",
       "      <td>0892f364bdc69014ae45e883fb423e01.5ba07df8130d8...</td>\n",
       "      <td>c6c76386e7e18d45b5d42d84758177bc</td>\n",
       "      <td>1e6d0e9cf07aaccbdc156ab316657d5d</td>\n",
       "    </tr>\n",
       "    <tr>\n",
       "      <th>1</th>\n",
       "      <td>0892f364bdc69014ae45e883fb423e01.5ba07df8130d8...</td>\n",
       "      <td>aa8669be11d00784f24328d8e37cfb83</td>\n",
       "      <td>1e6d0e9cf07aaccbdc156ab316657d5d</td>\n",
       "    </tr>\n",
       "    <tr>\n",
       "      <th>2</th>\n",
       "      <td>09189b9a21c21a9092e1fd711962ff16.05b2c36ec9f63...</td>\n",
       "      <td>314e8d386af34a49c03a13a72ade6f65</td>\n",
       "      <td>56772cd11904e75e8b5a95c671f5093b</td>\n",
       "    </tr>\n",
       "    <tr>\n",
       "      <th>3</th>\n",
       "      <td>09189b9a21c21a9092e1fd711962ff16.05b2c36ec9f63...</td>\n",
       "      <td>314e8d386af34a49c03a13a72ade6f65</td>\n",
       "      <td>50de9ffd18f616282e7c22916d47b7b5</td>\n",
       "    </tr>\n",
       "    <tr>\n",
       "      <th>4</th>\n",
       "      <td>09189b9a21c21a9092e1fd711962ff16.05b2c36ec9f63...</td>\n",
       "      <td>ea0d99fb184575c7c36151daaf101642</td>\n",
       "      <td>56772cd11904e75e8b5a95c671f5093b</td>\n",
       "    </tr>\n",
       "  </tbody>\n",
       "</table>\n",
       "</div>"
      ],
      "text/plain": [
       "                                                  ip  \\\n",
       "0  0892f364bdc69014ae45e883fb423e01.5ba07df8130d8...   \n",
       "1  0892f364bdc69014ae45e883fb423e01.5ba07df8130d8...   \n",
       "2  09189b9a21c21a9092e1fd711962ff16.05b2c36ec9f63...   \n",
       "3  09189b9a21c21a9092e1fd711962ff16.05b2c36ec9f63...   \n",
       "4  09189b9a21c21a9092e1fd711962ff16.05b2c36ec9f63...   \n",
       "\n",
       "                          device_id                          cookieid  \n",
       "0  c6c76386e7e18d45b5d42d84758177bc  1e6d0e9cf07aaccbdc156ab316657d5d  \n",
       "1  aa8669be11d00784f24328d8e37cfb83  1e6d0e9cf07aaccbdc156ab316657d5d  \n",
       "2  314e8d386af34a49c03a13a72ade6f65  56772cd11904e75e8b5a95c671f5093b  \n",
       "3  314e8d386af34a49c03a13a72ade6f65  50de9ffd18f616282e7c22916d47b7b5  \n",
       "4  ea0d99fb184575c7c36151daaf101642  56772cd11904e75e8b5a95c671f5093b  "
      ]
     },
     "execution_count": 16,
     "metadata": {},
     "output_type": "execute_result"
    }
   ],
   "source": [
    "device_cookie_ip_df.head()"
   ]
  },
  {
   "cell_type": "code",
   "execution_count": null,
   "metadata": {},
   "outputs": [],
   "source": []
  },
  {
   "cell_type": "code",
   "execution_count": null,
   "metadata": {},
   "outputs": [],
   "source": []
  },
  {
   "cell_type": "code",
   "execution_count": null,
   "metadata": {},
   "outputs": [],
   "source": []
  },
  {
   "cell_type": "code",
   "execution_count": 17,
   "metadata": {},
   "outputs": [],
   "source": [
    "device_cookie_user_df = device_cookie_user_df.drop_duplicates(subset=['device_id', 'cookieid'])"
   ]
  },
  {
   "cell_type": "code",
   "execution_count": 18,
   "metadata": {},
   "outputs": [
    {
     "name": "stdout",
     "output_type": "stream",
     "text": [
      "CPU times: user 3.63 s, sys: 138 ms, total: 3.77 s\n",
      "Wall time: 3.96 s\n"
     ]
    }
   ],
   "source": [
    "%%time\n",
    "device_cookie_user_df.to_csv('../alidata/data/device_cookie_user_training.csv', index=False, header=True)"
   ]
  },
  {
   "cell_type": "code",
   "execution_count": 19,
   "metadata": {},
   "outputs": [],
   "source": [
    "device_cookie_ip_df = device_cookie_ip_df.drop_duplicates(subset=['device_id', 'cookieid'])"
   ]
  },
  {
   "cell_type": "code",
   "execution_count": 20,
   "metadata": {},
   "outputs": [
    {
     "name": "stdout",
     "output_type": "stream",
     "text": [
      "CPU times: user 11min 31s, sys: 27 s, total: 11min 58s\n",
      "Wall time: 11min 59s\n"
     ]
    }
   ],
   "source": [
    "%%time\n",
    "device_cookie_ip_df.to_csv('../alidata/data/device_cookie_ip_training.csv', index=False, header=True)"
   ]
  },
  {
   "cell_type": "code",
   "execution_count": null,
   "metadata": {},
   "outputs": [],
   "source": []
  },
  {
   "cell_type": "code",
   "execution_count": null,
   "metadata": {},
   "outputs": [],
   "source": []
  },
  {
   "cell_type": "code",
   "execution_count": null,
   "metadata": {},
   "outputs": [],
   "source": []
  },
  {
   "cell_type": "code",
   "execution_count": null,
   "metadata": {},
   "outputs": [],
   "source": []
  },
  {
   "cell_type": "code",
   "execution_count": null,
   "metadata": {},
   "outputs": [],
   "source": []
  },
  {
   "cell_type": "code",
   "execution_count": null,
   "metadata": {},
   "outputs": [],
   "source": []
  },
  {
   "cell_type": "code",
   "execution_count": null,
   "metadata": {},
   "outputs": [],
   "source": []
  },
  {
   "cell_type": "code",
   "execution_count": null,
   "metadata": {},
   "outputs": [],
   "source": []
  },
  {
   "cell_type": "code",
   "execution_count": null,
   "metadata": {},
   "outputs": [],
   "source": []
  },
  {
   "cell_type": "code",
   "execution_count": null,
   "metadata": {},
   "outputs": [],
   "source": []
  },
  {
   "cell_type": "code",
   "execution_count": null,
   "metadata": {},
   "outputs": [],
   "source": [
    "list(device_mapping_df[['device_id', 'source_device_id']])"
   ]
  },
  {
   "cell_type": "code",
   "execution_count": null,
   "metadata": {},
   "outputs": [],
   "source": []
  },
  {
   "cell_type": "code",
   "execution_count": 15,
   "metadata": {
    "scrolled": true
   },
   "outputs": [
    {
     "data": {
      "text/html": [
       "<div>\n",
       "<style scoped>\n",
       "    .dataframe tbody tr th:only-of-type {\n",
       "        vertical-align: middle;\n",
       "    }\n",
       "\n",
       "    .dataframe tbody tr th {\n",
       "        vertical-align: top;\n",
       "    }\n",
       "\n",
       "    .dataframe thead th {\n",
       "        text-align: right;\n",
       "    }\n",
       "</style>\n",
       "<table border=\"1\" class=\"dataframe\">\n",
       "  <thead>\n",
       "    <tr style=\"text-align: right;\">\n",
       "      <th></th>\n",
       "      <th>user_id</th>\n",
       "      <th>data_time</th>\n",
       "      <th>cookieid</th>\n",
       "      <th>url</th>\n",
       "      <th>url_domain1</th>\n",
       "      <th>url_domain2</th>\n",
       "      <th>search_keyword</th>\n",
       "      <th>auction_id</th>\n",
       "      <th>shop_id</th>\n",
       "      <th>ip</th>\n",
       "      <th>title</th>\n",
       "    </tr>\n",
       "  </thead>\n",
       "  <tbody>\n",
       "    <tr>\n",
       "      <th>0</th>\n",
       "      <td>00107db01724177334168edcde0316de</td>\n",
       "      <td>20170504162141</td>\n",
       "      <td>dfda306f4194f64a2edba8b7850b7916</td>\n",
       "      <td>11d5de9d70262cd0bac56468590ac2e9/c28bf7bee965d...</td>\n",
       "      <td>cc56b7cf02ca811e0f0c4d6c41b2d63d</td>\n",
       "      <td>6eabf3ab911d12248a98ac76bef2bbd9</td>\n",
       "      <td>NaN</td>\n",
       "      <td>NaN</td>\n",
       "      <td>NaN</td>\n",
       "      <td>32f5c369ba5da48f5f93ebbb7b0ba53d.22f5907dcd774...</td>\n",
       "      <td>fe9fbb21f8eb28267794c89bd2195e06 7ec0dcfbef15c...</td>\n",
       "    </tr>\n",
       "    <tr>\n",
       "      <th>1</th>\n",
       "      <td>00107db01724177334168edcde0316de</td>\n",
       "      <td>20170504121918</td>\n",
       "      <td>ebfc9734b1d69126367677629fbaf001</td>\n",
       "      <td>355ffb74d915b5af974746bf95270e96/c28bf7bee965d...</td>\n",
       "      <td>3e717b288d611cf2f5dc6dd94c59e8ea</td>\n",
       "      <td>415b5e22510385dc83143d314005632a</td>\n",
       "      <td>NaN</td>\n",
       "      <td>NaN</td>\n",
       "      <td>NaN</td>\n",
       "      <td>1f0ba6bf3b36f1b054f5309567f710b2.1289994d9aa7b...</td>\n",
       "      <td>f40e0ae89f586f7e2688a0768502121d 6abdabe1602d5...</td>\n",
       "    </tr>\n",
       "    <tr>\n",
       "      <th>2</th>\n",
       "      <td>00107db01724177334168edcde0316de</td>\n",
       "      <td>20170505221600</td>\n",
       "      <td>410ee5c224fc8de726ff04234353d9e6</td>\n",
       "      <td>5a48c512bb1e9bd5f131ec4ebe005523/c28bf7bee965d...</td>\n",
       "      <td>b2c235606545568a97f3fa3ac7e02860</td>\n",
       "      <td>f82bfe1601e10c6399acfc74fb131999</td>\n",
       "      <td>NaN</td>\n",
       "      <td>79c424ce3b44d11d17668ea56a4988aa</td>\n",
       "      <td>3e236dbf07aaa8edcf15fd11e04aa57b</td>\n",
       "      <td>50beb1e1f9ee8806580ba559ea06dae6.9a66503fbd765...</td>\n",
       "      <td>96c1abd42f500b6c25d0af06cf72e343 b37c13faa585b...</td>\n",
       "    </tr>\n",
       "    <tr>\n",
       "      <th>3</th>\n",
       "      <td>00107db01724177334168edcde0316de</td>\n",
       "      <td>20170505221341</td>\n",
       "      <td>410ee5c224fc8de726ff04234353d9e6</td>\n",
       "      <td>5a48c512bb1e9bd5f131ec4ebe005523/c28bf7bee965d...</td>\n",
       "      <td>b2c235606545568a97f3fa3ac7e02860</td>\n",
       "      <td>f82bfe1601e10c6399acfc74fb131999</td>\n",
       "      <td>NaN</td>\n",
       "      <td>79c424ce3b44d11d17668ea56a4988aa</td>\n",
       "      <td>3e236dbf07aaa8edcf15fd11e04aa57b</td>\n",
       "      <td>50beb1e1f9ee8806580ba559ea06dae6.9a66503fbd765...</td>\n",
       "      <td>96c1abd42f500b6c25d0af06cf72e343 b37c13faa585b...</td>\n",
       "    </tr>\n",
       "    <tr>\n",
       "      <th>4</th>\n",
       "      <td>00107db01724177334168edcde0316de</td>\n",
       "      <td>20170505221552</td>\n",
       "      <td>410ee5c224fc8de726ff04234353d9e6</td>\n",
       "      <td>5a48c512bb1e9bd5f131ec4ebe005523/c28bf7bee965d...</td>\n",
       "      <td>b2c235606545568a97f3fa3ac7e02860</td>\n",
       "      <td>f82bfe1601e10c6399acfc74fb131999</td>\n",
       "      <td>NaN</td>\n",
       "      <td>1840633b00b8cd8cdc5c707c0d56f861</td>\n",
       "      <td>3e236dbf07aaa8edcf15fd11e04aa57b</td>\n",
       "      <td>50beb1e1f9ee8806580ba559ea06dae6.9a66503fbd765...</td>\n",
       "      <td>45cc045a2363f24668ed6d51e1ef3821 2294255ec6f3a...</td>\n",
       "    </tr>\n",
       "  </tbody>\n",
       "</table>\n",
       "</div>"
      ],
      "text/plain": [
       "                            user_id       data_time  \\\n",
       "0  00107db01724177334168edcde0316de  20170504162141   \n",
       "1  00107db01724177334168edcde0316de  20170504121918   \n",
       "2  00107db01724177334168edcde0316de  20170505221600   \n",
       "3  00107db01724177334168edcde0316de  20170505221341   \n",
       "4  00107db01724177334168edcde0316de  20170505221552   \n",
       "\n",
       "                           cookieid  \\\n",
       "0  dfda306f4194f64a2edba8b7850b7916   \n",
       "1  ebfc9734b1d69126367677629fbaf001   \n",
       "2  410ee5c224fc8de726ff04234353d9e6   \n",
       "3  410ee5c224fc8de726ff04234353d9e6   \n",
       "4  410ee5c224fc8de726ff04234353d9e6   \n",
       "\n",
       "                                                 url  \\\n",
       "0  11d5de9d70262cd0bac56468590ac2e9/c28bf7bee965d...   \n",
       "1  355ffb74d915b5af974746bf95270e96/c28bf7bee965d...   \n",
       "2  5a48c512bb1e9bd5f131ec4ebe005523/c28bf7bee965d...   \n",
       "3  5a48c512bb1e9bd5f131ec4ebe005523/c28bf7bee965d...   \n",
       "4  5a48c512bb1e9bd5f131ec4ebe005523/c28bf7bee965d...   \n",
       "\n",
       "                        url_domain1                       url_domain2  \\\n",
       "0  cc56b7cf02ca811e0f0c4d6c41b2d63d  6eabf3ab911d12248a98ac76bef2bbd9   \n",
       "1  3e717b288d611cf2f5dc6dd94c59e8ea  415b5e22510385dc83143d314005632a   \n",
       "2  b2c235606545568a97f3fa3ac7e02860  f82bfe1601e10c6399acfc74fb131999   \n",
       "3  b2c235606545568a97f3fa3ac7e02860  f82bfe1601e10c6399acfc74fb131999   \n",
       "4  b2c235606545568a97f3fa3ac7e02860  f82bfe1601e10c6399acfc74fb131999   \n",
       "\n",
       "  search_keyword                        auction_id  \\\n",
       "0            NaN                               NaN   \n",
       "1            NaN                               NaN   \n",
       "2            NaN  79c424ce3b44d11d17668ea56a4988aa   \n",
       "3            NaN  79c424ce3b44d11d17668ea56a4988aa   \n",
       "4            NaN  1840633b00b8cd8cdc5c707c0d56f861   \n",
       "\n",
       "                            shop_id  \\\n",
       "0                               NaN   \n",
       "1                               NaN   \n",
       "2  3e236dbf07aaa8edcf15fd11e04aa57b   \n",
       "3  3e236dbf07aaa8edcf15fd11e04aa57b   \n",
       "4  3e236dbf07aaa8edcf15fd11e04aa57b   \n",
       "\n",
       "                                                  ip  \\\n",
       "0  32f5c369ba5da48f5f93ebbb7b0ba53d.22f5907dcd774...   \n",
       "1  1f0ba6bf3b36f1b054f5309567f710b2.1289994d9aa7b...   \n",
       "2  50beb1e1f9ee8806580ba559ea06dae6.9a66503fbd765...   \n",
       "3  50beb1e1f9ee8806580ba559ea06dae6.9a66503fbd765...   \n",
       "4  50beb1e1f9ee8806580ba559ea06dae6.9a66503fbd765...   \n",
       "\n",
       "                                               title  \n",
       "0  fe9fbb21f8eb28267794c89bd2195e06 7ec0dcfbef15c...  \n",
       "1  f40e0ae89f586f7e2688a0768502121d 6abdabe1602d5...  \n",
       "2  96c1abd42f500b6c25d0af06cf72e343 b37c13faa585b...  \n",
       "3  96c1abd42f500b6c25d0af06cf72e343 b37c13faa585b...  \n",
       "4  45cc045a2363f24668ed6d51e1ef3821 2294255ec6f3a...  "
      ]
     },
     "execution_count": 15,
     "metadata": {},
     "output_type": "execute_result"
    }
   ],
   "source": [
    "cookie_test_df.head()"
   ]
  },
  {
   "cell_type": "code",
   "execution_count": 16,
   "metadata": {},
   "outputs": [],
   "source": [
    "cookie_ip_df = cookie_test_df[['user_id', 'cookieid', 'ip', 'data_time']]"
   ]
  },
  {
   "cell_type": "code",
   "execution_count": 17,
   "metadata": {},
   "outputs": [],
   "source": [
    "cookie_ip_df = cookie_ip_df.drop_duplicates(subset=['user_id', 'cookieid', 'ip', 'data_time'])"
   ]
  },
  {
   "cell_type": "code",
   "execution_count": 18,
   "metadata": {},
   "outputs": [
    {
     "data": {
      "text/html": [
       "<div>\n",
       "<style scoped>\n",
       "    .dataframe tbody tr th:only-of-type {\n",
       "        vertical-align: middle;\n",
       "    }\n",
       "\n",
       "    .dataframe tbody tr th {\n",
       "        vertical-align: top;\n",
       "    }\n",
       "\n",
       "    .dataframe thead th {\n",
       "        text-align: right;\n",
       "    }\n",
       "</style>\n",
       "<table border=\"1\" class=\"dataframe\">\n",
       "  <thead>\n",
       "    <tr style=\"text-align: right;\">\n",
       "      <th></th>\n",
       "      <th>user_id</th>\n",
       "      <th>cookieid</th>\n",
       "      <th>ip</th>\n",
       "      <th>data_time</th>\n",
       "    </tr>\n",
       "  </thead>\n",
       "  <tbody>\n",
       "    <tr>\n",
       "      <th>0</th>\n",
       "      <td>00107db01724177334168edcde0316de</td>\n",
       "      <td>dfda306f4194f64a2edba8b7850b7916</td>\n",
       "      <td>32f5c369ba5da48f5f93ebbb7b0ba53d.22f5907dcd774...</td>\n",
       "      <td>20170504162141</td>\n",
       "    </tr>\n",
       "    <tr>\n",
       "      <th>1</th>\n",
       "      <td>00107db01724177334168edcde0316de</td>\n",
       "      <td>ebfc9734b1d69126367677629fbaf001</td>\n",
       "      <td>1f0ba6bf3b36f1b054f5309567f710b2.1289994d9aa7b...</td>\n",
       "      <td>20170504121918</td>\n",
       "    </tr>\n",
       "    <tr>\n",
       "      <th>2</th>\n",
       "      <td>00107db01724177334168edcde0316de</td>\n",
       "      <td>410ee5c224fc8de726ff04234353d9e6</td>\n",
       "      <td>50beb1e1f9ee8806580ba559ea06dae6.9a66503fbd765...</td>\n",
       "      <td>20170505221600</td>\n",
       "    </tr>\n",
       "    <tr>\n",
       "      <th>3</th>\n",
       "      <td>00107db01724177334168edcde0316de</td>\n",
       "      <td>410ee5c224fc8de726ff04234353d9e6</td>\n",
       "      <td>50beb1e1f9ee8806580ba559ea06dae6.9a66503fbd765...</td>\n",
       "      <td>20170505221341</td>\n",
       "    </tr>\n",
       "    <tr>\n",
       "      <th>4</th>\n",
       "      <td>00107db01724177334168edcde0316de</td>\n",
       "      <td>410ee5c224fc8de726ff04234353d9e6</td>\n",
       "      <td>50beb1e1f9ee8806580ba559ea06dae6.9a66503fbd765...</td>\n",
       "      <td>20170505221552</td>\n",
       "    </tr>\n",
       "  </tbody>\n",
       "</table>\n",
       "</div>"
      ],
      "text/plain": [
       "                            user_id                          cookieid  \\\n",
       "0  00107db01724177334168edcde0316de  dfda306f4194f64a2edba8b7850b7916   \n",
       "1  00107db01724177334168edcde0316de  ebfc9734b1d69126367677629fbaf001   \n",
       "2  00107db01724177334168edcde0316de  410ee5c224fc8de726ff04234353d9e6   \n",
       "3  00107db01724177334168edcde0316de  410ee5c224fc8de726ff04234353d9e6   \n",
       "4  00107db01724177334168edcde0316de  410ee5c224fc8de726ff04234353d9e6   \n",
       "\n",
       "                                                  ip       data_time  \n",
       "0  32f5c369ba5da48f5f93ebbb7b0ba53d.22f5907dcd774...  20170504162141  \n",
       "1  1f0ba6bf3b36f1b054f5309567f710b2.1289994d9aa7b...  20170504121918  \n",
       "2  50beb1e1f9ee8806580ba559ea06dae6.9a66503fbd765...  20170505221600  \n",
       "3  50beb1e1f9ee8806580ba559ea06dae6.9a66503fbd765...  20170505221341  \n",
       "4  50beb1e1f9ee8806580ba559ea06dae6.9a66503fbd765...  20170505221552  "
      ]
     },
     "execution_count": 18,
     "metadata": {},
     "output_type": "execute_result"
    }
   ],
   "source": [
    "cookie_ip_df.head()"
   ]
  },
  {
   "cell_type": "code",
   "execution_count": 19,
   "metadata": {},
   "outputs": [
    {
     "data": {
      "text/plain": [
       "9492770"
      ]
     },
     "execution_count": 19,
     "metadata": {},
     "output_type": "execute_result"
    }
   ],
   "source": [
    "len(cookie_test_df)"
   ]
  },
  {
   "cell_type": "code",
   "execution_count": 20,
   "metadata": {},
   "outputs": [
    {
     "data": {
      "text/plain": [
       "9097513"
      ]
     },
     "execution_count": 20,
     "metadata": {},
     "output_type": "execute_result"
    }
   ],
   "source": [
    "len(cookie_ip_df)"
   ]
  },
  {
   "cell_type": "code",
   "execution_count": null,
   "metadata": {},
   "outputs": [],
   "source": []
  },
  {
   "cell_type": "code",
   "execution_count": 21,
   "metadata": {},
   "outputs": [],
   "source": [
    "device_ip_df.to_csv('../alidata/data/clean_device_ip_time.csv', index=False, header=True)"
   ]
  },
  {
   "cell_type": "code",
   "execution_count": 22,
   "metadata": {},
   "outputs": [],
   "source": [
    "cookie_ip_df.to_csv('../alidata/data/clean_cookie_ip_time.csv', index=False, header=True)"
   ]
  },
  {
   "cell_type": "code",
   "execution_count": null,
   "metadata": {},
   "outputs": [],
   "source": []
  },
  {
   "cell_type": "code",
   "execution_count": null,
   "metadata": {},
   "outputs": [],
   "source": []
  },
  {
   "cell_type": "code",
   "execution_count": null,
   "metadata": {},
   "outputs": [],
   "source": []
  },
  {
   "cell_type": "code",
   "execution_count": null,
   "metadata": {},
   "outputs": [],
   "source": []
  },
  {
   "cell_type": "code",
   "execution_count": null,
   "metadata": {},
   "outputs": [],
   "source": []
  }
 ],
 "metadata": {
  "kernelspec": {
   "display_name": "Environment (conda_pytorch_p36)",
   "language": "python",
   "name": "conda_pytorch_p36"
  },
  "language_info": {
   "codemirror_mode": {
    "name": "ipython",
    "version": 3
   },
   "file_extension": ".py",
   "mimetype": "text/x-python",
   "name": "python",
   "nbconvert_exporter": "python",
   "pygments_lexer": "ipython3",
   "version": "3.6.10"
  }
 },
 "nbformat": 4,
 "nbformat_minor": 2
}
